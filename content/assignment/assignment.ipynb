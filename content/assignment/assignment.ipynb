{
 "cells": [
  {
   "cell_type": "markdown",
   "id": "4b718c98-5ded-4878-af84-587aca527dbd",
   "metadata": {
    "editable": true,
    "slideshow": {
     "slide_type": ""
    },
    "tags": []
   },
   "source": [
    "# 山本担当分 レポート課題"
   ]
  },
  {
   "cell_type": "code",
   "execution_count": null,
   "id": "73808cc3-aab7-4e00-b1a6-daae6fdcba2f",
   "metadata": {
    "editable": true,
    "slideshow": {
     "slide_type": ""
    },
    "tags": [
     "remove-input",
     "remove-output"
    ]
   },
   "outputs": [],
   "source": [
    "import numpy as np\n",
    "import networkx as nx\n",
    "\n",
    "import warnings\n",
    "warnings.filterwarnings('ignore')\n",
    "\n",
    "%matplotlib inline"
   ]
  },
  {
   "cell_type": "code",
   "execution_count": null,
   "id": "ffea0f12-c0ac-4026-a7c6-01c013aa8259",
   "metadata": {
    "editable": true,
    "slideshow": {
     "slide_type": ""
    },
    "tags": [
     "remove-input",
     "remove-output"
    ]
   },
   "outputs": [],
   "source": [
    "DRAW_CONFIG = {\n",
    "    'node_color': 'white',\n",
    "    'edgecolors': 'black', # line color of nodes\n",
    "    'with_labels': True,\n",
    "    'node_size': 600,\n",
    "    'font_size': 14,\n",
    "    'font_family': 'Arial',\n",
    "    'arrowsize': 15,\n",
    "}"
   ]
  },
  {
   "cell_type": "markdown",
   "id": "9e8d176d-ad96-4178-b2ed-8e935eaea88b",
   "metadata": {
    "editable": true,
    "slideshow": {
     "slide_type": ""
    },
    "tags": []
   },
   "source": [
    "- 締め切り: 2025年7月31日（木）23:59\n",
    "- 提出先: 学務情報システム\n",
    "- 提出形式\n",
    "    - [指定したテンプレートファイル](https://b.hontolab.org/graphanalysis-report-template)（Wordファイル）を用いて解答を作成すること\n",
    "    - 提出時にはWordファイルをPDFファイルに変換すること\n",
    "- 留意事項: 問3で用いるデータをダウンロードするためのパスワードは，別途学務情報システム経由でお知らせします"
   ]
  },
  {
   "cell_type": "markdown",
   "id": "777e584f-6f57-4ddc-a513-d5ea31548172",
   "metadata": {
    "editable": true,
    "slideshow": {
     "slide_type": ""
    },
    "tags": []
   },
   "source": [
    "---"
   ]
  },
  {
   "cell_type": "markdown",
   "id": "a363674b-226a-4c44-8469-c01bd35f01e3",
   "metadata": {
    "editable": true,
    "slideshow": {
     "slide_type": ""
    },
    "tags": []
   },
   "source": [
    "## 問1: ノードの媒介中心性（20点）\n",
    "\n",
    "以下はあるソーシャルネットワークグラフ$G_{social}$である．\n",
    "グラフ$G_{social}$中におけるノードA，B，およびCの媒介中心性を計算過程を示しながら求めなさい．\n",
    "なお，本課題のノード$n$の媒介中心性の計算において，ノードから別ノードへの最短経路が$n$を経由するもの以外にも存在する場合，$n$を経由する最短経路のみを計算対象としなさい．"
   ]
  },
  {
   "cell_type": "code",
   "execution_count": null,
   "id": "f308c57f-6d64-41ed-8b4c-56da18885cc6",
   "metadata": {
    "editable": true,
    "slideshow": {
     "slide_type": ""
    },
    "tags": [
     "remove-input"
    ]
   },
   "outputs": [],
   "source": [
    "G_social = nx.Graph()\n",
    "G_social.add_nodes_from(['A', 'B', 'C', 'D', 'E', 'F', 'G', 'H', 'I'])\n",
    "G_social.add_edges_from([\n",
    "    ('A', 'B'), ('A', 'C'),\n",
    "    ('B', 'C'), ('B', 'H'),\n",
    "    ('C', 'D'),\n",
    "    ('H', 'I'), ('H', 'G'),\n",
    "    ('I', 'G'), ('G', 'E'), ('D', 'E'), ('D', 'F'), ('E', 'F')\n",
    "])\n",
    "\n",
    "pos = nx.spring_layout(G_social, seed=1)\n",
    "nx.draw(G_social, pos, **DRAW_CONFIG)"
   ]
  },
  {
   "cell_type": "markdown",
   "id": "ea3f8da4-5a12-47b6-8321-b99fb7576b05",
   "metadata": {
    "editable": true,
    "slideshow": {
     "slide_type": ""
    },
    "tags": []
   },
   "source": [
    "## 問2: PageRank（合計40点）\n",
    "### 問2-(1): シンプルなPageRank（20点）\n",
    "\n",
    "以下のグラフ上のノードの重要度について，下記手順（単純なPageRankアルゴリズム）で計算したい．\n",
    "1. すべてのノードの重要度を$\\frac{1}{N}$で初期化\n",
    "2. ノード$x$の重要度$p(x)$を右式で更新: $p(x)=\\sum_{y \\in link\\_to(x)} \\frac{1}{deg_{out}(y)}p(y)$\n",
    "3. ステップ2をスコアが収束するまで繰り返す\n",
    "\n",
    "ただし，$N$はノード数，$link\\_to(x)$はノード$x$にエッジを張っているノードの集合，$deg_{out}(y)$はノード$y$の出次数とする．\n",
    "\n",
    "ステップ2を3回繰り返したときの各ノードの重要度の値を計算しなさい．\n",
    "また，ステップ2を3回繰り返した際の値の変化傾向から，ステップ2を無限に繰り返した際に得られるノードの重要度の収束値を予想しなさい．\n",
    "なお，重要度の計算を手計算で行う場合はその過程を，プログラミングで行う場合はコードを解答とともに示しなさい．"
   ]
  },
  {
   "cell_type": "code",
   "execution_count": null,
   "id": "bb782558-81ed-4cad-8faa-dd27fd53a08b",
   "metadata": {
    "editable": true,
    "slideshow": {
     "slide_type": ""
    },
    "tags": [
     "remove-input"
    ]
   },
   "outputs": [],
   "source": [
    "G = nx.DiGraph([\n",
    "    (0, 1), (0, 2), (0, 3), \n",
    "    (1, 0), (1, 3),\n",
    "    (2, 2),\n",
    "    (3, 1), (3, 2)\n",
    "])\n",
    "\n",
    "pos = nx.spring_layout(G, seed=777)\n",
    "nx.draw(G, pos, **DRAW_CONFIG)"
   ]
  },
  {
   "cell_type": "markdown",
   "id": "4eb9ba32-8d27-4429-a636-d282ae174e2f",
   "metadata": {
    "editable": true,
    "slideshow": {
     "slide_type": ""
    },
    "tags": []
   },
   "source": [
    "### 問2-(2): PageRankの解釈（20点）\n",
    "\n",
    "グラフ$G$に含まれるノード数を$N$，ノード$x$にエッジを張っているノード集合を$link\\_to(x)$，ノード$y$の出次数を$deg_{out}(y)$，$\\alpha$を0以上1以下の実数とするとき，$G$に含まれるノード$x$のPageRank値$p(x)$は，以下の式によって再帰的に計算される．\n",
    "\n",
    "$$\n",
    "p(x) = \\alpha (\\sum_{y \\in link\\_to(x)} \\frac{1}{deg_{out}(y)}p(y)) + (1 - \\alpha)\\frac{1}{N}\n",
    "$$\n",
    "\n",
    "グラフ$G$の各ノードのPageRank値を上の式に従って計算したとき，どのノードのPageRank値も少なくとも$\\frac{1-\\alpha}{N}$以上になることを示しなさい．\n",
    "また，$\\alpha$が0に近づくにつれて，各ノードのPageRank値がどのような値になるか，ノード間のPageRank値の違いがどのような意味合いを持つのか述べなさい．"
   ]
  },
  {
   "cell_type": "markdown",
   "id": "ae54f40e-f6b9-4de6-9803-0d82b5dfd760",
   "metadata": {
    "editable": true,
    "slideshow": {
     "slide_type": ""
    },
    "tags": []
   },
   "source": [
    "## 問3: 社会ネットワーク分析（合計40点）\n",
    "\n",
    "以下のグラフ$G_{edo}$は，[人文学オープンデータ共同利用センター](https://codh.rois.ac.jp/)が公開しているデータベース[江戸買物案内](https://codh.rois.ac.jp/edo-shops/iiif-curation-finder/?lang=ja)をもとに，「[江戸買物独案内](https://ja.wikipedia.org/wiki/%E6%B1%9F%E6%88%B8%E8%B2%B7%E7%89%A9%E7%8B%AC%E6%A1%88%E5%86%85)」で登場する商人の交流関係の一部をグラフ化したものである（データベースからの課題用データ抽出，およびグラフ化は山本が実施）．\n",
    "グラフ中のノードは江戸買物案内に2回以上登場する商人，エッジは同じ区域（居所（歴史地名大系））で商売を営んでいたことを意味する．\n",
    "\n",
    "グラフ$G_{edo}$のデータは，レポート課題用に[コチラ](https://b.hontolab.org/edo_merchant)からダウンロードが可能である（パスワードは講義中に伝えます）．\n",
    "また，ダウンロードしたデータは，以下のコードでNetworkX形式のグラフとして読み込める（データは`data/edo_merchant`ディレクトリに`edo_merchant.graphml`という名前で保存したとする）．"
   ]
  },
  {
   "cell_type": "code",
   "execution_count": null,
   "id": "5fca89ab-e5c6-4fa5-b02a-fb42d8860276",
   "metadata": {
    "editable": true,
    "slideshow": {
     "slide_type": ""
    },
    "tags": []
   },
   "outputs": [],
   "source": [
    "G_edo = nx.read_graphml(path=\"data/edo_merchant/edo_merchant.graphml\")\n",
    "\n",
    "# # グラフG_edoのノードから10件を表示\n",
    "# list(G_edo.nodes)[:10]\n",
    "\n",
    "# # 玉屋市郎兵衛の隣接ノード（同じ商売区域で商売を営んでいた人）を表示\n",
    "# for neighbor in G_edo.neighbors('玉屋市郎兵衛'):\n",
    "#     print(neighbor)"
   ]
  },
  {
   "cell_type": "code",
   "execution_count": null,
   "id": "805990aa-b11b-4859-8bb4-c8e1b10c177c",
   "metadata": {
    "editable": true,
    "slideshow": {
     "slide_type": ""
    },
    "tags": [
     "remove-input"
    ]
   },
   "outputs": [],
   "source": [
    "G_edo = nx.read_graphml(path=\"data/edo_merchant/edo_merchant.graphml\")\n",
    "\n",
    "EDO_DRAW_CONFIG = {\n",
    "    'node_size': 10,\n",
    "    'with_labels': False,    \n",
    "    'edge_color': 'cornflowerblue',\n",
    "    'width': 0.25,\n",
    "    'alpha': 0.6,\n",
    "}\n",
    "\n",
    "pos = nx.spring_layout(G_edo, iterations=150, seed=1234, k=0.5)\n",
    "nx.draw(G_edo, pos, **EDO_DRAW_CONFIG)"
   ]
  },
  {
   "cell_type": "markdown",
   "id": "fedab0d4-34f5-4efc-9d0a-2ace8b807c9b",
   "metadata": {
    "editable": true,
    "slideshow": {
     "slide_type": ""
    },
    "tags": []
   },
   "source": [
    "### 問3-(1): 影響力のある商人（15点）\n",
    "\n",
    "グラフ$G_{edo}$をもとに，データ中に含まれる商人のうち「最も影響力のあった商人」の上位10名を求めなさい．\n",
    "解答においては，上位10名を求める過程や検討の際に用いたプログラミングコードも合わせて提示すること．\n",
    "なお，「影響力」の定義は解答者が定めればよいが，その定義を必ず解答の中で宣言すること．\n"
   ]
  },
  {
   "cell_type": "markdown",
   "id": "a4d51daf-088b-46a4-95fa-98f7a39f91ce",
   "metadata": {
    "editable": true,
    "slideshow": {
     "slide_type": ""
    },
    "tags": []
   },
   "source": [
    "### 問3-(2): 商売区域をつなぐ重要な商人（15点）\n",
    "\n",
    "可視化されたグラフが示しているように，グラフ$G_{edo}$においてノード（商人）は商売区域ごとにコミュニティを形成しているように見える．\n",
    "現代においてもそうであるように，ある地域から別の地域，しかも大きな区域に進出をする際には，商売区域をつなぐような人物は重宝されたと考えられる．\n",
    "\n",
    "グラフ$G_{edo}$をもとに，データ中に含まれる商人のうち「コミュニティの橋渡し役として重要であったと考えられる商人」の上位10名を求めなさい．\n",
    "解答においては，上位10名を求める過程や検討の際に用いたプログラミングコードも合わせて提示すること．\n",
    "なお，「橋渡し役としての重要度」の定義は解答者が定めればよいが，その定義を必ず解答の中で宣言すること．\n"
   ]
  },
  {
   "cell_type": "markdown",
   "id": "0d142d5e-616b-46bc-9e85-e70f7fa07128",
   "metadata": {
    "editable": true,
    "slideshow": {
     "slide_type": ""
    },
    "tags": []
   },
   "source": [
    "### 問3-(3): 鰹節・塩干肴問屋業界で影響力のある商人（10点）\n",
    "\n",
    "[コチラ](data/edo_merchant/himono_merchants.tsv)からダウンロードできるデータには，グラフ$G_{edo}$に含まれる商人のうち，「鰹節・塩干肴問屋」を営んでいた商人の名前が収められている．\n",
    "グラフ$G_{edo}$をもとに，「鰹節・塩干肴問屋」を営む商人の界隈で影響力のあった商人の上位5名を求めなさい．\n",
    "解答においては，上位5名を求める過程や検討の際に用いたプログラミングコードも合わせて提示すること．\n",
    "なお，「影響力」の定義は解答者が定めればよいが，その定義を必ず解答の中で宣言すること．"
   ]
  }
 ],
 "metadata": {
  "kernelspec": {
   "display_name": "Python 3 (ipykernel)",
   "language": "python",
   "name": "python3"
  },
  "language_info": {
   "codemirror_mode": {
    "name": "ipython",
    "version": 3
   },
   "file_extension": ".py",
   "mimetype": "text/x-python",
   "name": "python",
   "nbconvert_exporter": "python",
   "pygments_lexer": "ipython3",
   "version": "3.10.13"
  }
 },
 "nbformat": 4,
 "nbformat_minor": 5
}
