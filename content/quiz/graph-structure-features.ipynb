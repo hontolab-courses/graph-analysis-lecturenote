{
 "cells": [
  {
   "cell_type": "markdown",
   "id": "6c586ca3-daf8-41f9-b9ff-b55e72e72210",
   "metadata": {},
   "source": [
    "# グラフ構造の諸指標"
   ]
  },
  {
   "cell_type": "markdown",
   "id": "f4bc87f8-8b32-4c54-bb86-0db256f75e6b",
   "metadata": {
    "editable": true,
    "slideshow": {
     "slide_type": ""
    },
    "tags": []
   },
   "source": [
    "## クイズ"
   ]
  },
  {
   "cell_type": "markdown",
   "id": "2f4011a6-5e4c-4e51-be58-973f42f5d8b2",
   "metadata": {
    "editable": true,
    "slideshow": {
     "slide_type": ""
    },
    "tags": []
   },
   "source": [
    "### Q: 研究者のネットワーク\n",
    "\n",
    "科学研究費助成事業（略称「科研費」）は学術研究を格段に発展させることを目的とし，文部科学省および日本学術振興会が審査・交付を行っている競争的研究費である．\n",
    "日本の大学研究者の多くは，科研費を獲得・活用して研究活動を行っている．\n",
    "科研費に採択された研究プロジェクトについては[科学研究費助成事業データベース](https://kaken.nii.ac.jp/ja/)に公開されており，プロジェクトの概要やプロジェクトに関わる研究者を確認することができる．\n",
    "\n",
    "[コチラ](data/kakendb/kakendb.zip)からダウンロードできるファイルは，2025年4月1日の時点で[科学研究費助成事業データベース](https://kaken.nii.ac.jp/ja/)から取得した一部のデータを圧縮したものである．\n",
    "解凍後に得られる4つのファイルは，ある審査区分（研究分野）の採択プロジェクトに携わったことのある研究者同士の共同研究関係を（NetworkXの）隣接行列形式で保存したファイルとなっている．\n",
    "ファイルと対象としている審査区分の対応関係は以下の通り：\n",
    "- `collaboration_eme.adjlist`: 「電気電子材料工学関連」分野\n",
    "- `collaboration_mb.adjlist`: 「分子生物学関連」分野\n",
    "- `collaboration_ps.adjlist`: 「宇宙惑星科学関連」分野\n",
    "- `collaboration_jh.adjlist`: 「日本史関連」分野\n",
    "\n",
    "上記ファイルをNetworkXライブラリを使って読み込み，各研究分野の共同研究者ネットワークを示すグラフを可視化しなさい．\n",
    "また，各グラフの\n",
    "- ノード数\n",
    "- 密度\n",
    "- 次数の平均値\n",
    "- 次数の分布\n",
    "\n",
    "を比較しなさい．\n",
    "\n",
    "なお，隣接行列形式のグラフデータが格納された`xxx.adjlist`ファイルからグラフを読み込むには，以下のようにNetworkXの`read_adjlist`関数を用いればよい．"
   ]
  },
  {
   "cell_type": "code",
   "execution_count": null,
   "id": "dbf8f5c4-7878-4663-ab49-c5c8ee2fc65e",
   "metadata": {
    "editable": true,
    "slideshow": {
     "slide_type": ""
    },
    "tags": []
   },
   "outputs": [],
   "source": [
    "import networkx as nx\n",
    "\n",
    "# data/kakendbディレクトリに保存したcollaboration_db.adjlistを読み込む\n",
    "G_db = nx.read_adjlist(\"data/kakendb/collaboration_db.adjlist\")"
   ]
  }
 ],
 "metadata": {
  "kernelspec": {
   "display_name": "Python 3 (ipykernel)",
   "language": "python",
   "name": "python3"
  },
  "language_info": {
   "codemirror_mode": {
    "name": "ipython",
    "version": 3
   },
   "file_extension": ".py",
   "mimetype": "text/x-python",
   "name": "python",
   "nbconvert_exporter": "python",
   "pygments_lexer": "ipython3",
   "version": "3.9.13"
  }
 },
 "nbformat": 4,
 "nbformat_minor": 5
}
