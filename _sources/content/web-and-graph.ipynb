{
 "cells": [
  {
   "cell_type": "markdown",
   "id": "359cc2a8-7fdd-48c2-9775-efe14eff3f0f",
   "metadata": {
    "editable": true,
    "slideshow": {
     "slide_type": ""
    },
    "tags": []
   },
   "source": [
    "# ウェブとグラフ"
   ]
  },
  {
   "cell_type": "code",
   "execution_count": 55,
   "id": "75e9a9be-4b66-4927-8cdb-5a27324a6850",
   "metadata": {
    "editable": true,
    "slideshow": {
     "slide_type": ""
    },
    "tags": [
     "remove-output",
     "hide-input"
    ]
   },
   "outputs": [],
   "source": [
    "import numpy as np\n",
    "import networkx as nx\n",
    "\n",
    "%matplotlib inline"
   ]
  },
  {
   "cell_type": "code",
   "execution_count": 56,
   "id": "97070816-d636-45c3-b764-fa000cbf0c54",
   "metadata": {
    "editable": true,
    "slideshow": {
     "slide_type": ""
    },
    "tags": [
     "hide-input"
    ]
   },
   "outputs": [],
   "source": [
    "DRAW_CONFIG = {\n",
    "    'node_color': 'white',\n",
    "    'edgecolors': 'black', # line color of nodes\n",
    "    'with_labels': True,\n",
    "    'node_size': 600,\n",
    "    'font_size': 14,\n",
    "    'font_family': 'Arial',\n",
    "}"
   ]
  },
  {
   "cell_type": "markdown",
   "id": "fadd2507-8599-42fa-844e-b433ad5137af",
   "metadata": {},
   "source": [
    "## ウェブ\n",
    "\n",
    "**ウェブ（World wide web; Web）** は，インターネット上に構築された**ハイパーテキスト（hypertext）** システムである．\n",
    "ハイパーテキストとは文書同士をハイパーリンク（単にリンクと呼ぶことも）をつなぐ仕組みである．\n",
    "勘違いされやすいが，インターネットは通信網であって「インターネット = ウェブ」ではない．\n",
    "\n",
    "ウェブはウェブページをノード，リンクをエッジと見れば，グラフと見なすことができる（より厳密には有向グラフである）．\n",
    "ウェブページは数100億，ウェブページ間のリンクは数兆あると言われており，ウェブは社会に存在する最も巨大なグラフと言える．\n",
    "\n",
    "<img src=\"https://pi.math.cornell.edu/~mec/Winter2009/RalucaRemus/Lecture5/imag.jpg\" width=\"50%\">\n",
    "\n",
    "ウェブには，玉石混淆ではあるが，様々なトピックに関するウェブページが日々アップロードされている．\n",
    "今日，ウェブは貴重な知識源の1つであることに異論はないであろう．\n",
    "そのようなウェブからウェブページを見つけるためのツールが検索エンジンである．\n",
    "\n",
    "検索エンジンは，日々リンクを辿ってウェブページを巡回し，データベースに格納し，検索のための索引づけを行っている．\n",
    "伝統的な検索エンジンは，検索ワードと文書との関連性をランキング指標として，データベースに格納された文書をランキングしていた．\n",
    "検索ワードと文書の関連性は，直感的には「検索ワードに関連した語がどの程度出現するか」で評価される．\n",
    "\n",
    "検索対象となるウェブページ数が少ない場合，検索ワードとの関連性でウェブページを評価する方法でも良い．\n",
    "しかし，ウェブページは膨大にあるため，検索ワードの関連性だけでは有用なウェブページを絞りきれない．\n",
    "また，検索ワードとして入力そうな語をウェブページにたくさん入れておけば，ランキングを上げることもできてしまう．\n",
    "そのため，検索ワードに対する関連性以外の観点からも，ウェブページの重要度を評価する方法が必要となる．\n",
    "\n",
    "以降で説明する**PageRank**と**HITS**は，ウェブのグラフとして特徴を活かし，ウェブページの重要性を評価するウェブ黎明期に発表された重要なアルゴリズムである．\n",
    "これらアルゴリズムが発表されて以降，これらアルゴリズムを改善，発展させたアルゴリズムが多数登場している．\n"
   ]
  },
  {
   "cell_type": "markdown",
   "id": "a1361b02-dd67-41f4-a2af-16b079e45147",
   "metadata": {
    "editable": true,
    "slideshow": {
     "slide_type": ""
    },
    "tags": []
   },
   "source": [
    "## PageRank"
   ]
  },
  {
   "cell_type": "markdown",
   "id": "ba967e50-e7ef-4516-9def-fff3bd8fd849",
   "metadata": {
    "editable": true,
    "slideshow": {
     "slide_type": ""
    },
    "tags": []
   },
   "source": [
    "[PageRank](https://research.google/pubs/the-anatomy-of-a-large-scale-hypertextual-web-search-engine/)はGoogleの創業者であるSergey BrinとLarry Pageが提案したアルゴリズムである．\n",
    "Googleの検索エンジンはPageRankの実装により，ウェブ検索エンジンのトップランナーに躍り出た．\n",
    "\n",
    "PageRankはウェブページに張られたリンクを一種の「投票」と見なし，ウェブページの重要度（PageRank値）を計算する．\n",
    "PageRankは，重要度の計算のために，以下のような仮定を置く．\n",
    "\n",
    "> 多くの重要なウェブページからリンクされたウェブページほど重要である\n",
    "\n",
    "ご覧の通り，この仮定は再帰的（堂々巡り）であるが，実際の計算ではどう対応するのであろうか．"
   ]
  },
  {
   "cell_type": "markdown",
   "id": "694d94b9-7e28-4406-afc1-42767d1ba9d4",
   "metadata": {
    "editable": true,
    "slideshow": {
     "slide_type": ""
    },
    "tags": []
   },
   "source": [
    "### 単純なPageRank"
   ]
  },
  {
   "cell_type": "markdown",
   "id": "2bfa5089-746f-402d-99ee-a012e6d53f65",
   "metadata": {
    "editable": true,
    "slideshow": {
     "slide_type": ""
    },
    "tags": []
   },
   "source": [
    "シンプルなPageRankアルゴリズムは，以下の手順でウェブページの重要度を計算する：\n",
    "\n",
    "1. 計算対象とするウェブページ群$W$を用意する（ウェブページはN個あるとする）\n",
    "2. 各ウェブページ$w \\in W$のPageRank値$p(w)$を$\\frac{1}{N}$で初期化する\n",
    "3. ウェブページ$w$にリンクするウェブページ集合を$W_{to}(w)$とする．このとき，すべてのウェブページのPageRank値を以下の式で更新する．なお，ウェブページ$w$のPageRank値の初期値は$p_0(w)$に対応する．また，$deg_{out}(w)$はウェブページ$w$の出次数を表す．\n",
    "\n",
    "$$\n",
    "p_{n+1}(w) = \\sum_{w_{to} \\in W_{to}(w)}\\frac{1}{deg_{out}(w_{to})}p_n(w_{to})\n",
    "$$\n",
    "\n",
    "4. PageRank値が収束するまで，ステップ3の処理を繰り返す．\n",
    "\n",
    "\n",
    "上記手順について，下記グラフ$G$を用いて具体的に考えてみよう．"
   ]
  },
  {
   "cell_type": "code",
   "execution_count": 57,
   "id": "77d703cf-5c50-4d78-9dc4-db4bf9d819e2",
   "metadata": {
    "editable": true,
    "slideshow": {
     "slide_type": ""
    },
    "tags": [
     "remove-input"
    ]
   },
   "outputs": [
    {
     "data": {
      "image/png": "[encoded data removed]",
      "text/plain": [
       "<Figure size 640x480 with 1 Axes>"
      ]
     },
     "metadata": {},
     "output_type": "display_data"
    }
   ],
   "source": [
    "G = nx.DiGraph([\n",
    "    ('A', 'B'), ('A', 'C'), ('A', 'D'), ('A', 'E'),\n",
    "    ('B', 'A'), ('B', 'D'),\n",
    "    ('C', 'B'),\n",
    "    ('D', 'B'),\n",
    "    ('E', 'C')\n",
    "])\n",
    "\n",
    "\n",
    "pos = {'A':[0,0], 'B':[1, 0], 'C':[0, -1], 'D':[1, -1], 'E':[-0.5, -1.5]}\n",
    "\n",
    "nx.draw(G, pos, **DRAW_CONFIG)"
   ]
  },
  {
   "cell_type": "markdown",
   "id": "edd7a73f-05d3-477d-a4d9-7c61d4004044",
   "metadata": {
    "editable": true,
    "slideshow": {
     "slide_type": ""
    },
    "tags": []
   },
   "source": [
    "まず，PageRank値を初期化する．\n",
    "上記グラフ$G$はノード数が5であるため，どのノードもPageRankの初期値は$\\frac{1}{5}$となる．\n",
    "\n",
    "次のステップでは，PageRank値を更新する．\n",
    "ここでは，ノードDのPageRank値を更新することを考えてみよう．\n",
    "ノードDはノードAとノードBからリンクされている．\n",
    "よって，更新式に従うと，ノードDのPageRank値はノードAとノードBのPageRank値によって更新される．\n",
    "\n",
    "![](img/simple-pagerank-calculation.jpg)"
   ]
  },
  {
   "cell_type": "markdown",
   "id": "428d4bdb-a1db-4899-a908-676d5e7be9f9",
   "metadata": {
    "editable": true,
    "slideshow": {
     "slide_type": ""
    },
    "tags": []
   },
   "source": [
    "現時点でのノードAのPageRank値は$\\frac{1}{5}$である．\n",
    "また，上図のように，ノードAはB，C，D，Eの4つのノードにリンクを張っている．\n",
    "それゆえ，更新式に従うと，ノードDにはノードAのもつPageRank値（$=\\frac{1}{5}$）の$\\frac{1}{4}$が配分される．\n",
    "同様に，ノードBからもノードDに$\\frac{1}{2} \\times \\frac{1}{5}$のPageRank値が配分される．\n",
    "この配分によって，ノードDのPageRank値は\n",
    "\n",
    "$$\n",
    "\\begin{eqnarray}\n",
    "p_1(D) &= \\frac{1}{4} \\times p_0(C) + \\frac{1}{2} \\times p_0(B) \\\\\n",
    "&= \\frac{1}{4} \\times \\frac{1}{5} + \\frac{1}{2} \\times \\frac{1}{5} = \\frac{3}{20}\n",
    "\\end{eqnarray}\n",
    "$$\n",
    "\n",
    "と更新される．\n",
    "他のノードも同様の処理を行うと，1回目の更新で以下のようになる．\n",
    "\n",
    "![](img/simple-pagerank-calculation-2.jpg)\n",
    "\n",
    "\n",
    "この処理について，すべてのノードのPageRank値が収束するまで繰り返す．\n",
    "値は徐々に変化しなくなり，最終的には以下のように落ち着く．\n",
    "収束したときの値が，最終的なPageRank値となる．\n",
    "\n",
    "![](img/simple-pagerank-calculation-3.jpg)"
   ]
  },
  {
   "cell_type": "markdown",
   "id": "218aefe5-50d2-4bf6-b439-00d80189e863",
   "metadata": {},
   "source": [
    "以上が単純なPageRankの計算手順であるが，行列を用いると計算を効率よく行える．\n",
    "以下は，上で説明したPageRankの計算手順を行列を用いて書き直したものである．\n",
    "\n",
    "1. 計算対象とするウェブページ群$W$を，その隣接行列を$\\boldsymbol{A}$とする．また，隣接行列$\\boldsymbol{A}$の各行の値を行の値の合計値で正規化した行列を$\\boldsymbol{M}$とする（遷移確率行列）．\n",
    "2. 各ウェブページのPageRank値を格納したベクトルを$\\boldsymbol{p}$とし，その要素値を$\\frac{1}{N}$で初期化する（$N$はウェブページの数）．\n",
    "3. 以下の式でPageRankベクトルを更新する（$\\boldsymbol{p}_{0}$が初期値となる）\n",
    "\n",
    "$$\n",
    "\\boldsymbol{p}_{n+1} = \\boldsymbol{M}^T \\boldsymbol{p}_{n}\n",
    "$$\n",
    "\n",
    "4. PageRank値が収束するまで，ステップ3の処理を繰り返す．"
   ]
  },
  {
   "cell_type": "markdown",
   "id": "225a8dd0-6774-47a0-9575-af0ed1054906",
   "metadata": {},
   "source": [
    "NumPyを用いれば，上記PageRankの計算手順は簡単に書ける．\n",
    "以下は，例で用いたグラフ$G$の各ノードのPageRank値を求めるPythonコードである．"
   ]
  },
  {
   "cell_type": "code",
   "execution_count": 69,
   "id": "66956936-d11c-4af8-bdc6-9d2175043131",
   "metadata": {
    "editable": true,
    "slideshow": {
     "slide_type": ""
    },
    "tags": []
   },
   "outputs": [
    {
     "data": {
      "text/plain": [
       "array([[0.2 ],\n",
       "       [0.4 ],\n",
       "       [0.1 ],\n",
       "       [0.25],\n",
       "       [0.05]])"
      ]
     },
     "execution_count": 69,
     "metadata": {},
     "output_type": "execute_result"
    }
   ],
   "source": [
    "import networkx as nx\n",
    "import numpy as np\n",
    "\n",
    "# 行列の正規化のために使う\n",
    "from sklearn.preprocessing import normalize\n",
    "\n",
    "\n",
    "# グラフの定義\n",
    "G = nx.DiGraph([\n",
    "    ('A', 'B'), ('A', 'C'), ('A', 'D'), ('A', 'E'),\n",
    "    ('B', 'A'), ('B', 'D'),\n",
    "    ('C', 'B'),\n",
    "    ('D', 'B'),\n",
    "    ('E', 'C')\n",
    "])\n",
    "\n",
    "\n",
    "# PageRankベクトルを初期化する\n",
    "N = G.number_of_nodes()\n",
    "p = np.ones(N).reshape(-1, 1) # 要素値1，要素数がNの縦ベクトル\n",
    "p = p / N \n",
    "\n",
    "\n",
    "# 隣接行列\n",
    "A = nx.adjacency_matrix(G).toarray()\n",
    "# 遷移確率行列\n",
    "M = normalize(A, norm='l1', axis=1)\n",
    "\n",
    "# PageRank値の更新．100回繰り返せば値は収束する\n",
    "for i in range(100):\n",
    "    p = np.dot(M.T, p)\n",
    "\n",
    "p"
   ]
  },
  {
   "cell_type": "markdown",
   "id": "58e65465-1cc5-43db-9a3a-35c3255148b9",
   "metadata": {
    "editable": true,
    "slideshow": {
     "slide_type": ""
    },
    "tags": []
   },
   "source": [
    "上記のPageRankはシンプルであり役に立ちそうだが，この方法を用いてもウェブページの重要度を計算できない．\n",
    "ウェブグラフ中に，以下のようなデッドエンドやスパイダーとラップと呼ばれる構造を含んでいると，PageRankが意図しない値に収束してしまうのである．\n",
    "この問題を解決するために，オリジナルのPageRankアルゴリズムは一工夫をしている．\n",
    "\n",
    "![](img/deadend-and-spidertrap.jpg)"
   ]
  },
  {
   "cell_type": "markdown",
   "id": "aa3d0f2f-db8e-42c0-8e54-e348ff1f671a",
   "metadata": {},
   "source": [
    "### 完全なPageRank"
   ]
  },
  {
   "cell_type": "markdown",
   "id": "bb7f9240-9d75-4ebb-85b5-d2a4ebdef269",
   "metadata": {},
   "source": [
    "デッドエンド問題やスパイダートラップ問題を解決するために，オリジナルのPageRankアルゴリズムでは**ランダムサーファーモデル（random surfer model）** という仮定を導入している．\n",
    "あなたがウェブブラウジングをしている時を想像してほしい．\n",
    "ブラウジングをする際，ウェブページ内のリンクをクリックして別のページに移動することもあれば，ブックマークやQRコードなどURLを直接指定して（リンクを辿らず）ウェブページに飛ぶこともあるだろう．\n",
    "ランダムサーファーモデルとは，ユーザは「リンクによるページ移動」と「直接ページ移動（ジャンプ）」を切り替えながらページを移動する，という仮定である．\n",
    "この仮定を反映するようにシンプルなPageRankを修正することで，ウェブグラフ中にどんな構造があっても\n",
    "\n",
    "> 多くの重要なウェブページからリンクされたウェブページほど重要である\n",
    "\n",
    "という仮定を踏まえたPageRank値を計算することが可能となる．"
   ]
  },
  {
   "cell_type": "markdown",
   "id": "ddb85f63-41b3-40db-a178-dde98964f535",
   "metadata": {},
   "source": [
    "以下，修正を施した完全なPageRank値を計算手順である．\n",
    "\n",
    "1. 計算対象とするウェブページ群$W$を，その隣接行列を$\\boldsymbol{A}$とする．また，隣接行列$\\boldsymbol{A}$の各行の値を行の値の合計値で正規化した行列を$\\boldsymbol{M}$とする（遷移確率行列）．\n",
    "2. 各ウェブページのPageRank値を格納した縦ベクトルを$\\boldsymbol{p}$とし，その要素値を$\\frac{1}{N}$で初期化する（$N$はウェブページの数）．\n",
    "3. 以下の式でPageRankベクトルを更新する．なお，$\\alpha$は事前に指定した定数である．また，$\\boldsymbol{e}$は要素数が$N$，要素が1の縦ベクトルである．\n",
    "\n",
    "$$\n",
    "\\boldsymbol{p}_{n+1} = \\alpha \\boldsymbol{M}^T \\boldsymbol{p}_{n} + (1 - \\alpha) \\frac{\\boldsymbol{e}}{N}\n",
    "$$\n",
    "\n",
    "4. PageRank値が収束するまで，ステップ3の処理を繰り返す．\n",
    "\n",
    "シンプルなPageRankとの違いはステップ3の更新式である．\n",
    "式中の$\\boldsymbol{M}^T \\boldsymbol{p}_{n}$は「リンクを辿る行動」によるPageRank値の更新に対応する．\n",
    "一方，$\\frac{\\boldsymbol{e}}{N}$は「リンクを辿らず，直接ページを訪問する行動」によるPageRank値の更新に対応し，どのページにも同じ確率で（ランダムに）ジャンプすることを想定している．\n",
    "第1項の前にかかっている$\\alpha$は，リンクを辿る行動を$\\alpha$の確率で選択することを意味している．\n",
    "\n",
    "Networkxライブラリには，PageRank値を計算する関数`pagerank`が実装されている．\n",
    "以下は，上で挙げたスパイダートラップ構造を持つグラフのPageRank値を$\\alpha=0.85$の設定で計算するコード例である．"
   ]
  },
  {
   "cell_type": "code",
   "execution_count": 59,
   "id": "65330554-e73d-4844-84b1-02b1e53ad442",
   "metadata": {},
   "outputs": [
    {
     "data": {
      "text/plain": [
       "{'A': 0.02170200545830377,\n",
       " 'B': 0.019372367238476566,\n",
       " 'C': 0.9303512546064392,\n",
       " 'D': 0.028574372696780325}"
      ]
     },
     "execution_count": 59,
     "metadata": {},
     "output_type": "execute_result"
    }
   ],
   "source": [
    "# グラフの定義\n",
    "G_spidertrap = nx.DiGraph([\n",
    "    ('A', 'B'), ('A', 'C'), ('A', 'D'),\n",
    "    ('B', 'A'), ('B', 'D'),\n",
    "    ('C', 'C'),\n",
    "    ('D', 'C'),\n",
    "])\n",
    "\n",
    "nx.pagerank(G_spidertrap, alpha=0.95, max_iter=100)"
   ]
  },
  {
   "attachments": {},
   "cell_type": "markdown",
   "id": "6c0c6d17-202c-47bd-926e-7c4ba163f546",
   "metadata": {
    "editable": true,
    "slideshow": {
     "slide_type": ""
    },
    "tags": []
   },
   "source": [
    "## HITS\n",
    "\n",
    "**HITS（hypertext induced topic search）** アルゴリズムは，PageRankとほぼ同じ時期に提案されたウェブページの重要度を測るアルゴリズムである．\n",
    "PageRankと同じく，ウェブページ間のリンク構造に着目したアルゴリズムであるが，趣が異なる．\n",
    "\n",
    "HITSは，ウェブページの役割には2種類あると仮定している．\n",
    "1つは**オーソリティ（authority）** としての役割である．\n",
    "特定のトピックに対して重要な情報を載せているウェブページは，同様のトピックを扱うページからも多く参照されるはずである．\n",
    "このようなページはオーソリティ的な役割を果たしている．\n",
    "例えば，著名な専門家が書いたウェブページが該当する．\n",
    "\n",
    "2つ目は**ハブ（hub）** としての役割である．\n",
    "ウェブページの中には，自身のページには重要な情報を掲載していないが，重要な情報を掲載したウェブページ，すなわちオーソリティ的なページへのリンクをまとめているものがある．\n",
    "このようなページはハブ的な役割を果たしている．\n",
    "リンク集サイトなどがハブ的なページに該当する．\n",
    "\n",
    "![](img/hub-and-authority.jpg)\n",
    "\n",
    "HITSはウェブページのオーソリティとしての良さ，ハブとしての良さを計算するアルゴリズムである．\n",
    "HITSは計算のために，以下の仮定を置いている：\n",
    "\n",
    "- ハブ値が高いページから多く参照されているページはオーソリティ値が高い\n",
    "- オーソリティ値が高いページを多く参照しているページはハブ値が高い\n",
    "\n",
    "PageRankと同様，HITSアルゴリズムも再帰的な仮定を置いている．\n",
    "この仮定をもとに，HITSは以下の手順でウェブページの重要度（すなわち，オーソリティ値とハブ値）を計算する：\n",
    "\n",
    "1. 計算対象とするウェブページ群$W$を用意する（ウェブページはN個あるとする）\n",
    "2. 各ウェブページ$w \\in W$のハブ値$hub(w)$およびオーソリティ値$auth(w)$を1で初期化する\n",
    "3. ウェブページ$w$にリンクするウェブページ集合を$W_{to}(w)$，ウェブページ$w$からリンクされたウェブページ集合を$W_{from}(w)$とする．このとき，すべてのウェブページのオーソリティ値，ハブ値を以下の式で更新する：\n",
    "\n",
    "$$\n",
    "\\begin{eqnarray}\n",
    "auth_{n+1}(w) &= \\sum_{x \\in W_{to}(w)}hub_n(x) \\\\\n",
    "hub_{n+1}(w) &= \\sum_{x \\in W_{from}(w)}auth_n(x)\n",
    "\\end{eqnarray}\n",
    "$$\n",
    "\n",
    "4. 更新したハブ値，オーソリティ値を合計値で正規化する．\n",
    "5. ハブ値，オーソリティ値が収束するまで，ステップ4の処理を繰り返す．\n"
   ]
  },
  {
   "cell_type": "markdown",
   "id": "35669802-e5f3-4939-ac61-1c5f8bd2107b",
   "metadata": {
    "editable": true,
    "slideshow": {
     "slide_type": ""
    },
    "tags": []
   },
   "source": [
    "#### HITSアルゴリズムの行列表現\n",
    "\n",
    "上記の計算手順は，行列を使うとスマートかつ効率的に計算することができる．\n",
    "以下，行列を使った計算手順である：\n",
    "\n",
    "1. 計算対象とするウェブページ群$W$を用意する（ウェブページはN個あるとする）．\n",
    "2. 各ウェブページのハブ値およびオーソリティを格納したベクトルをそれぞれ$\\boldsymbol{h}$，$\\boldsymbol{a}$とし，各ベクトルの要素値を1で初期化する．\n",
    "4. ウェブグラフの隣接行列を$\\boldsymbol{A}$する．このとき，すべてのウェブページのオーソリティ値，ハブ値を格納したベクトルを以下の式で更新する．なお，$\\boldsymbol{h}_0$，$\\boldsymbol{a}_0$はハブベクトル，オーソリティベクトルの初期値である：\n",
    "\n",
    "$$\n",
    "\\begin{eqnarray}\n",
    "\\boldsymbol{a}_{n+1} &= \\boldsymbol{A}^T \\boldsymbol{h}_n \\\\\n",
    "\\boldsymbol{h}_{n+1} &= \\boldsymbol{A} \\boldsymbol{a}_n\n",
    "\\end{eqnarray}\n",
    "$$\n",
    "\n",
    "4. 更新したハブベクトル，オーソリティベクトルをL1ノルムで正規化する．\n",
    "\n",
    "$$\n",
    "\\begin{eqnarray}\n",
    "\\boldsymbol{a}_{n+1} &= \\frac{\\boldsymbol{a}_{n+1}}{||\\boldsymbol{a}_{n+1}||_{1}} \\\\\n",
    "\\boldsymbol{h}_{n+1} &= \\frac{\\boldsymbol{h}_{n+1}}{||\\boldsymbol{h}_{n+1}||_{1}} \n",
    "\\end{eqnarray}\n",
    "$$\n",
    "\n",
    "\n",
    "5. ハブ値，オーソリティ値が収束するまで，ステップ4の処理を繰り返す．"
   ]
  },
  {
   "cell_type": "code",
   "execution_count": 63,
   "id": "fefc218d-02f5-4f44-8fa9-166f46a012f9",
   "metadata": {
    "editable": true,
    "slideshow": {
     "slide_type": ""
    },
    "tags": [
     "remove-input"
    ]
   },
   "outputs": [
    {
     "data": {
      "image/png": "[encoded data removed]",
      "text/plain": [
       "<Figure size 640x480 with 1 Axes>"
      ]
     },
     "metadata": {},
     "output_type": "display_data"
    }
   ],
   "source": [
    "G_bipartite = nx.DiGraph()\n",
    "G_bipartite.add_nodes_from([0, 1, 2, 3, 4], bipartite=0)\n",
    "G_bipartite.add_nodes_from([5, 6, 7, 8, 9], bipartite=1)\n",
    "G_bipartite.add_edges_from([\n",
    "    (0, 5), (0, 6),\n",
    "    (1, 5), (1, 6),\n",
    "    (2, 5), (2, 6), (2, 7),\n",
    "    (3, 5), (3, 7), (3, 8),\n",
    "    (4, 9)\n",
    "])\n",
    "\n",
    "pos = nx.bipartite_layout(G_bipartite, [0, 1, 2, 3, 4])\n",
    "nx.draw(G_bipartite, pos, **DRAW_CONFIG)"
   ]
  },
  {
   "cell_type": "markdown",
   "id": "9bdf076f-ae94-4099-82b4-1ea81f4b8537",
   "metadata": {
    "editable": true,
    "slideshow": {
     "slide_type": ""
    },
    "tags": []
   },
   "source": [
    "上記グラフ$G_{bipartite}$を用いて，HITSアルゴリズムを具体的に実行してみよう．\n",
    "グラフ$G_{bipartite}$の各ノードのハブ値，オーソリティ値を求めるPythonコードは，以下のように書ける．"
   ]
  },
  {
   "cell_type": "code",
   "execution_count": 68,
   "id": "c584cbd5-2ed4-4671-ac99-584ff03bc6fc",
   "metadata": {
    "editable": true,
    "slideshow": {
     "slide_type": ""
    },
    "tags": []
   },
   "outputs": [
    {
     "data": {
      "text/plain": [
       "(array([[2.32408121e-01],\n",
       "        [2.32408121e-01],\n",
       "        [3.02775638e-01],\n",
       "        [2.32408121e-01],\n",
       "        [2.22745517e-45],\n",
       "        [0.00000000e+00],\n",
       "        [0.00000000e+00],\n",
       "        [0.00000000e+00],\n",
       "        [0.00000000e+00],\n",
       "        [0.00000000e+00]]),\n",
       " array([[0.00000000e+00],\n",
       "        [0.00000000e+00],\n",
       "        [0.00000000e+00],\n",
       "        [0.00000000e+00],\n",
       "        [0.00000000e+00],\n",
       "        [3.94448725e-01],\n",
       "        [3.02775638e-01],\n",
       "        [2.11102551e-01],\n",
       "        [9.16730868e-02],\n",
       "        [2.63585055e-45]]))"
      ]
     },
     "execution_count": 68,
     "metadata": {},
     "output_type": "execute_result"
    }
   ],
   "source": [
    "import networkx as np\n",
    "import numpy as np\n",
    "from sklearn.preprocessing import normalize\n",
    "\n",
    "\n",
    "# グラフを定義\n",
    "G_bipartite = nx.DiGraph()\n",
    "G_bipartite.add_nodes_from([0, 1, 2, 3, 4], bipartite=0)\n",
    "G_bipartite.add_nodes_from([5, 6, 7, 8, 9], bipartite=1)\n",
    "G_bipartite.add_edges_from([\n",
    "    (0, 5), (0, 6),\n",
    "    (1, 5), (1, 6),\n",
    "    (2, 5), (2, 6), (2, 7),\n",
    "    (3, 5), (3, 7), (3, 8),\n",
    "    (4, 9)\n",
    "])\n",
    "\n",
    "# グラフ中のノード数\n",
    "N = G_bipartite.number_of_nodes()\n",
    "\n",
    "# 隣接行列を取得\n",
    "A = nx.adjacency_matrix(G_bipartite).toarray()\n",
    "\n",
    "# ハブ値ベクトルを初期化\n",
    "h = np.ones(N).reshape(-1, 1)\n",
    "\n",
    "# オーソリティ値ベクトルを初期化\n",
    "a = np.ones(N).reshape(-1, 1)\n",
    "\n",
    "# ハブ値，オーソリティ値の更新（100回繰り返せば十分に収束する）\n",
    "for i in range(100):\n",
    "    a_new = np.dot(A.T, h)\n",
    "    h_new = np.dot(A, a)\n",
    "\n",
    "    # L1正規化\n",
    "    a = normalize(a_new, norm='l1', axis=0)\n",
    "    h = normalize(h_new, norm='l1', axis=0)\n",
    "\n",
    "h, a"
   ]
  },
  {
   "cell_type": "markdown",
   "id": "6795880a-01ad-4de5-ac92-4231d65b1487",
   "metadata": {
    "editable": true,
    "slideshow": {
     "slide_type": ""
    },
    "tags": []
   },
   "source": [
    "PageRankと同様，HITSアルゴリズムもNetworkxライブラリに`hits`関数と名前で実装されている．\n",
    "HITSを用いてハブ値，オーソリティ値を計算したい場合，以下のコードを実行すればよい．"
   ]
  },
  {
   "cell_type": "code",
   "execution_count": 67,
   "id": "f2234ea3-1838-46f5-9c6c-671251363c3a",
   "metadata": {
    "editable": true,
    "slideshow": {
     "slide_type": ""
    },
    "tags": []
   },
   "outputs": [
    {
     "data": {
      "text/plain": [
       "({0: 0.2324081207560018,\n",
       "  1: 0.2324081207560018,\n",
       "  2: 0.3027756377319947,\n",
       "  3: 0.2324081207560018,\n",
       "  4: -2.979849679955899e-17,\n",
       "  5: -0.0,\n",
       "  6: -0.0,\n",
       "  7: -0.0,\n",
       "  8: -0.0,\n",
       "  9: -0.0},\n",
       " {0: -0.0,\n",
       "  1: -2.0472611287723856e-17,\n",
       "  2: 6.789858261866111e-18,\n",
       "  3: -1.8239155210820883e-17,\n",
       "  4: 2.2533463348980456e-17,\n",
       "  5: 0.39444872453601076,\n",
       "  6: 0.3027756377319947,\n",
       "  7: 0.21110255092797867,\n",
       "  8: 0.09167308680401606,\n",
       "  9: -8.9395490398677e-17})"
      ]
     },
     "execution_count": 67,
     "metadata": {},
     "output_type": "execute_result"
    }
   ],
   "source": [
    "h, a = nx.hits(G_bipartite)\n",
    "h, a"
   ]
  },
  {
   "cell_type": "markdown",
   "id": "8d6b3cf9-3750-4388-a6a7-959f22064222",
   "metadata": {
    "editable": true,
    "slideshow": {
     "slide_type": ""
    },
    "tags": []
   },
   "source": [
    "## クイズ"
   ]
  },
  {
   "cell_type": "markdown",
   "id": "1724dfbb-6401-42ea-8308-1adf0a536c0d",
   "metadata": {},
   "source": [
    "### Q1: デッドリンク，スパイダートラップのあるグラフ\n",
    "\n",
    "![](img/deadend-and-spidertrap.jpg)\n",
    "\n",
    "上記の各グラフに対してシンプルなPageRankアルゴリズムを適用すると，どのような値に収束するか．\n",
    "Pythonコードを書いて確かめなさい．"
   ]
  },
  {
   "cell_type": "code",
   "execution_count": 89,
   "id": "40bca62f-c613-4d9e-bfcb-cb7cba1ae8f1",
   "metadata": {},
   "outputs": [],
   "source": [
    "import networkx as nx\n",
    "\n",
    "# グラフの定義\n",
    "G_deadend = nx.DiGraph([\n",
    "    ('A', 'B'), ('A', 'C'), ('A', 'D'),\n",
    "    ('B', 'A'), ('B', 'D'),\n",
    "    ('D', 'B'),\n",
    "])\n",
    "\n",
    "G_spidertrap = nx.DiGraph([\n",
    "    ('A', 'B'), ('A', 'C'), ('A', 'D'),\n",
    "    ('B', 'A'), ('B', 'D'),\n",
    "    ('C', 'C'), ('D', 'B'),\n",
    "])\n",
    "\n",
    "\n",
    "# Write your codes below\n"
   ]
  },
  {
   "cell_type": "code",
   "execution_count": 90,
   "id": "ecaca260-9b95-4ebb-a791-58ea2aa5f22d",
   "metadata": {},
   "outputs": [],
   "source": [
    "import networkx as nx\n",
    "import numpy as np\n",
    "\n",
    "# 行列の正規化のために使う\n",
    "from sklearn.preprocessing import normalize\n",
    "\n",
    "\n",
    "def calc_simple_pagerank(G, iter_count=100):\n",
    "    # PageRankベクトルを初期化する\n",
    "    N = G.number_of_nodes()\n",
    "    p = np.ones(N).reshape(-1, 1) # 要素値1，要素数がNの縦ベクトル\n",
    "    p = p / N \n",
    "    \n",
    "    \n",
    "    # 隣接行列\n",
    "    A = nx.adjacency_matrix(G).toarray()\n",
    "    # 遷移確率行列\n",
    "    M = normalize(A, norm='l1', axis=1)\n",
    "    \n",
    "    # PageRank値の更新．50回繰り返せば値は収束する\n",
    "    for i in range(iter_count):\n",
    "        p = np.dot(M.T, p)\n",
    "\n",
    "    return p\n",
    "\n",
    "\n",
    "# グラフの定義\n",
    "G_deadend = nx.DiGraph([\n",
    "    ('A', 'B'), ('A', 'C'), ('A', 'D'),\n",
    "    ('B', 'A'), ('B', 'D'),\n",
    "    ('D', 'B'),\n",
    "])\n",
    "\n",
    "\n",
    "G_spidertrap = nx.DiGraph([\n",
    "    ('A', 'B'), ('A', 'C'), ('A', 'D'),\n",
    "    ('B', 'A'), ('B', 'D'),\n",
    "    ('C', 'C'), ('D', 'B'),\n",
    "])"
   ]
  },
  {
   "cell_type": "code",
   "execution_count": 91,
   "id": "c3f78128-1b1c-4ceb-a6c9-e917869d2a47",
   "metadata": {},
   "outputs": [
    {
     "data": {
      "text/plain": [
       "array([[4.49828082e-05],\n",
       "       [8.28313370e-05],\n",
       "       [1.62857288e-05],\n",
       "       [6.12685370e-05]])"
      ]
     },
     "execution_count": 91,
     "metadata": {},
     "output_type": "execute_result"
    }
   ],
   "source": [
    "calc_simple_pagerank(G_deadend) "
   ]
  },
  {
   "cell_type": "code",
   "execution_count": 92,
   "id": "f6bb221d-0a51-4a25-8ded-3623bbc7850a",
   "metadata": {},
   "outputs": [
    {
     "data": {
      "text/plain": [
       "array([[4.49828082e-05],\n",
       "       [8.28313370e-05],\n",
       "       [9.99810917e-01],\n",
       "       [6.12685370e-05]])"
      ]
     },
     "execution_count": 92,
     "metadata": {},
     "output_type": "execute_result"
    }
   ],
   "source": [
    "calc_simple_pagerank(G_spidertrap) "
   ]
  },
  {
   "cell_type": "markdown",
   "id": "4db5c1ea-e645-4a1a-9d07-095f8d6e198a",
   "metadata": {
    "editable": true,
    "slideshow": {
     "slide_type": ""
    },
    "tags": []
   },
   "source": [
    "### Q2: PageRank実装\n",
    "NetworkXの`pagerank`関数を用いずに，（完全な）PageRank値を計算する関数`calc_pagerank`を実装しなさい．\n",
    "なお，`calc_pagerank`関数の引数は以下としなさい：\n",
    "- 第1引数: NetworkX形式のグラフ$G$\n",
    "- 第2引数: $\\alpha$パラメータ．デフォルト値は0.85\n",
    "- 第3引数: 更新回数．デフォルト値は50"
   ]
  },
  {
   "cell_type": "code",
   "execution_count": 73,
   "id": "34105895-6e18-4d3f-b4eb-0e7d0cf3bcd0",
   "metadata": {
    "editable": true,
    "slideshow": {
     "slide_type": ""
    },
    "tags": []
   },
   "outputs": [],
   "source": [
    "import networkx as nx\n",
    "import numpy as np\n",
    "from sklearn.preprocessing import normalize\n",
    "\n",
    "\n",
    "def calc_pagerank(G, beta=0.85, iter_num=50):\n",
    "    n = G.number_of_nodes()\n",
    "\n",
    "    # 隣接行列\n",
    "    A = nx.adjacency_matrix(G).toarray()\n",
    "\n",
    "    # 遷移確率行列\n",
    "    M = normalize(A, norm='l1', axis=1)\n",
    "\n",
    "    # PageRankベクトル\n",
    "    p = np.ones(n).reshape(-1, 1)\n",
    "    p = normalize(p, norm='l1', axis=0)\n",
    "\n",
    "    # Random jumpベクトル\n",
    "    e = np.ones(n).reshape(-1, 1)\n",
    "\n",
    "    for step in range(1000):\n",
    "        p = beta * np.dot(M.T, p) + (1-beta) * (e / n)\n",
    "\n",
    "    return p"
   ]
  },
  {
   "cell_type": "code",
   "execution_count": null,
   "id": "a119dc90-18f4-4d96-92ed-67e6cd4061d6",
   "metadata": {},
   "outputs": [],
   "source": []
  }
 ],
 "metadata": {
  "kernelspec": {
   "display_name": "Python 3 (ipykernel)",
   "language": "python",
   "name": "python3"
  },
  "language_info": {
   "codemirror_mode": {
    "name": "ipython",
    "version": 3
   },
   "file_extension": ".py",
   "mimetype": "text/x-python",
   "name": "python",
   "nbconvert_exporter": "python",
   "pygments_lexer": "ipython3",
   "version": "3.11.7"
  }
 },
 "nbformat": 4,
 "nbformat_minor": 5
}
