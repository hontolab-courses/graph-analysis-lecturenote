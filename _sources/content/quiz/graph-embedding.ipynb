{
 "cells": [
  {
   "cell_type": "markdown",
   "id": "6cd6f115-f743-4831-b0c8-54e89622ba68",
   "metadata": {
    "editable": true,
    "slideshow": {
     "slide_type": ""
    },
    "tags": []
   },
   "source": [
    "# グラフ埋め込み"
   ]
  },
  {
   "cell_type": "code",
   "execution_count": 1,
   "id": "8ea03fdb-208a-4520-9dfe-54b84924bf1e",
   "metadata": {
    "editable": true,
    "slideshow": {
     "slide_type": ""
    },
    "tags": [
     "hide-input",
     "remove-input"
    ]
   },
   "outputs": [],
   "source": [
    "import numpy as np\n",
    "import networkx as nx\n",
    "\n",
    "%matplotlib inline"
   ]
  },
  {
   "cell_type": "code",
   "execution_count": 2,
   "id": "a9f21778-903a-493c-85d0-a8fea0ef405d",
   "metadata": {
    "editable": true,
    "slideshow": {
     "slide_type": ""
    },
    "tags": [
     "hide-input",
     "remove-input"
    ]
   },
   "outputs": [],
   "source": [
    "DRAW_CONFIG = {\n",
    "    'node_color': 'white',\n",
    "    'edgecolors': 'black', # line color of nodes\n",
    "    'with_labels': True,\n",
    "    'node_size': 600,\n",
    "    'font_size': 14,\n",
    "    'font_family': 'Arial',\n",
    "}"
   ]
  },
  {
   "cell_type": "code",
   "execution_count": 3,
   "id": "3d022054-5491-49cb-ac61-70a6360fcfbd",
   "metadata": {
    "editable": true,
    "slideshow": {
     "slide_type": ""
    },
    "tags": []
   },
   "outputs": [],
   "source": [
    "try:\n",
    "    import torch_geometric\n",
    "except:\n",
    "    !pip install torch_geometric"
   ]
  },
  {
   "cell_type": "markdown",
   "id": "f34fd370-243e-41c5-8ab1-efdb894e09d8",
   "metadata": {
    "editable": true,
    "slideshow": {
     "slide_type": ""
    },
    "tags": []
   },
   "source": [
    "---\n",
    "\n",
    "## クイズ"
   ]
  },
  {
   "cell_type": "markdown",
   "id": "4a38e3f8-850d-467d-823f-95048be76743",
   "metadata": {
    "editable": true,
    "slideshow": {
     "slide_type": ""
    },
    "tags": []
   },
   "source": [
    "### Q1: ランダムウォーク\n",
    "\n",
    "以下のグラフ$G_{maze}$において，任意のノードからスタートし，ランダムウォークを$L$回したときの経路を得る関数`get_random_walk_path`を定義しなさい．\n",
    "関数`get_random_walk_path`の引数はグラフ`G`，出発ノード`node_from`，経路の長さ（ランダムウォークの回数）`length`とし，返り値は`[0, 4, ..., 3]`のようなノードのリストとすること．\n",
    "なお，このクイズではNetworkxの`generate_random_paths`関数は用いないこと．\n",
    "\n",
    "※ ヒント: あるノードに隣接するノードのリストを得るには，Networkxのグラフオブジェクトの`neighbors`メソッドを用いればよい．\n",
    "またリストからランダムに要素を取得するには`random`パッケージの`choice`メソッドを用いればよい．"
   ]
  },
  {
   "cell_type": "code",
   "execution_count": 4,
   "id": "c785aa3c-9f50-4e19-a8ec-204d054c4b08",
   "metadata": {
    "editable": true,
    "slideshow": {
     "slide_type": ""
    },
    "tags": [
     "remove-input"
    ]
   },
   "outputs": [
    {
     "data": {
      "image/png": "[encoded data removed]",
      "text/plain": [
       "<Figure size 640x480 with 1 Axes>"
      ]
     },
     "metadata": {},
     "output_type": "display_data"
    }
   ],
   "source": [
    "G_maze = nx.sedgewick_maze_graph()\n",
    "G_maze.add_edges_from([(3, 8), (3, 9), (8, 9)])\n",
    "pos = nx.spring_layout(G_maze, seed=123)\n",
    "nx.draw(G_maze, pos, **DRAW_CONFIG)"
   ]
  },
  {
   "cell_type": "code",
   "execution_count": null,
   "id": "d07b9a09-2db0-4a7c-b127-28f58892b7a6",
   "metadata": {
    "editable": true,
    "slideshow": {
     "slide_type": ""
    },
    "tags": []
   },
   "outputs": [],
   "source": [
    "# Write your code\n",
    "def get_random_walk_path(G, node_from, length):\n",
    "    ''' node_from: グラフG上でランダムウォークを開始するノード\n",
    "        length: ランダムウォークして得る経路の長さ\n",
    "    '''\n",
    "\n",
    "\n",
    "# グラフを定義\n",
    "G_maze = nx.sedgewick_maze_graph()\n",
    "\n",
    "# 定義した関数を用いて経路を得る\n",
    "# get_random_walk_path(G_maze, node_from=1, length=10)"
   ]
  },
  {
   "cell_type": "markdown",
   "id": "ca42ef66-6391-4d22-86b6-b6113099be74",
   "metadata": {
    "editable": true,
    "slideshow": {
     "slide_type": ""
    },
    "tags": []
   },
   "source": [
    "### Q2: node2vecのためのランダムウォーク\n",
    "\n",
    "クイズQ1で定義した`get_random_walk_path`関数を改良し，node2vecアルゴリズムに従うランダムウォーク経路を生成する関数`get_random_walk_path_for_n2v`を定義しなさい．\n",
    "なお，関数`get_random_walk_path_for_n2v`の引数として以下を設定しなさい．\n",
    "- G: グラフ\n",
    "- node_from: 経路の始点となるノード\n",
    "- length: 経路の長さ\n",
    "- p: 再訪性パラメータ（float型）\n",
    "- q: In-outパラメータ（float型）\n",
    "\n",
    "※ ヒント: 指定した重み（確率分布）に従ってリストから要素を取得するには，`random`パッケージの`choices`関数を用いる（[参考](https://docs.python.org/ja/3.13/library/random.html#random.choices)）．"
   ]
  },
  {
   "cell_type": "code",
   "execution_count": null,
   "id": "df601006-7a96-49ca-b080-5694f2a39fb9",
   "metadata": {
    "editable": true,
    "slideshow": {
     "slide_type": ""
    },
    "tags": []
   },
   "outputs": [],
   "source": [
    "import random\n",
    "\n",
    "# Write your code\n",
    "def get_random_walk_path_for_n2v(G, node_from, length, p: float=1, q: float=1):\n",
    "    ''' node_from: グラフG上でランダムウォークを開始するノード\n",
    "        length: ランダムウォークして得る経路の長さ\n",
    "    '''\n",
    "        \n",
    "\n",
    "# グラフを定義\n",
    "#G_maze = nx.sedgewick_maze_graph()\n",
    "\n",
    "# 定義した関数を用いて経路を得る\n",
    "#path = get_random_walk_path_for_n2v(G_maze, node_from=1, length=4, p=1, q=0.01)\n",
    "#path"
   ]
  },
  {
   "cell_type": "markdown",
   "id": "e96b2b32-aac3-4c92-816e-db137e86e972",
   "metadata": {
    "editable": true,
    "slideshow": {
     "slide_type": ""
    },
    "tags": []
   },
   "source": [
    "### Q3: 論文ジャンルの分類（1/2） - 埋め込みベクトルの獲得\n",
    "\n",
    "[Cora](https://paperswithcode.com/dataset/cora)は論文公開サイト[arXiv](https://arxiv.org)で公開されている機械学習分野の論文の一部を抽出したデータセットである．\n",
    "データセットには，論文の引用関係（どの論文がどの論文を引用したか）や論文のキーワード情報に加えて，各論文の分野カテゴリを示すラベル情報が含まれている．\n",
    "分野カテゴリラベルは0から6までの整数値のいずれかをとり，各数値に対応する分野は以下の通りである：\n",
    "\n",
    "0. Case based\n",
    "1. Genetic algorithm\n",
    "2. Neural network\n",
    "3. Probabilistic method\n",
    "4. Reinforcement learning\n",
    "5. Rule learning\n",
    "6. Theory"
   ]
  },
  {
   "cell_type": "markdown",
   "id": "24d8e302-7d9b-4d2e-ac46-084c88f46137",
   "metadata": {
    "editable": true,
    "slideshow": {
     "slide_type": ""
    },
    "tags": []
   },
   "source": [
    "分野カテゴリが未知の論文について，そのカテゴリを推定する分類器を機械学習で構築したいとしよう．\n",
    "第1ステップとして，論文の引用関係から引用関係グラフを構築し，グラフ構造とnode2vecを用いて各論文の埋め込みベクトルを得たい．\n",
    "以下のPythonコードを追記，修正して，論文の埋め込みベクトルを獲得しなさい．\n",
    "\n",
    "なお，node2vecのパラメータは以下とする:\n",
    "- `embedding_dim`: 64\n",
    "- `walks_per_node`: 10\n",
    "- `walk_length`: 10\n",
    "- `context_size`: 5\n",
    "- `p`および`q`: 任意\n",
    "- `epoch_num`（学習ループ回数）: 20"
   ]
  },
  {
   "cell_type": "code",
   "execution_count": null,
   "id": "b9b15e6d-9f67-4b82-bdf9-1e4ec25d2081",
   "metadata": {
    "editable": true,
    "slideshow": {
     "slide_type": ""
    },
    "tags": []
   },
   "outputs": [],
   "source": [
    "from torch_geometric import datasets\n",
    "import torch\n",
    "import torch_geometric\n",
    "from torch_geometric.nn import Node2Vec\n",
    "\n",
    "# データの読み込み．以下のコードで読み込めば，PyGライブラリで扱えるグラフデータ形式になっている\n",
    "paper_dataset = datasets.Planetoid(root=\"tmp\", name=\"cora\", split='full')\n",
    "\n",
    "# node2vecの設定\n",
    "model = Node2Vec(\n",
    "    paper_dataset.edge_index, # 埋め込み対象となるグラフのエッジ情報\n",
    "\n",
    "    # -------------------------\n",
    "    # Write your codes below\n",
    "    # -------------------------\n",
    ")\n",
    "\n",
    "# -----------------\n",
    "# 学習フェーズ\n",
    "# -----------------\n",
    "epoch_num = 20\n",
    "\n",
    "# 微分最適化アルゴリズム\n",
    "optimizer = torch.optim.Adam(model.parameters(), lr=0.01)\n",
    "\n",
    "# 学習データの読み込み方法\n",
    "loader = model.loader(batch_size=32, shuffle=True, num_workers=0)\n",
    "\n",
    "# 学習\n",
    "for epoch in range(epoch_num):\n",
    "    model.train()\n",
    "    total_loss = 0\n",
    "    for pos_rw, neg_rw in loader:\n",
    "        optimizer.zero_grad()\n",
    "        loss = model.loss(pos_rw, neg_rw) # 誤差の計算\n",
    "        loss.backward() # 誤差逆伝播\n",
    "        optimizer.step() # パラメータ更新\n",
    "        total_loss += loss.item()\n",
    "    train_loss = total_loss / len(loader)\n",
    "    \n",
    "    if epoch % 5 == 0:\n",
    "        print(f'Epoch: {epoch}, Train-loss: {train_loss:.4f}')\n",
    "\n",
    "# -----------\n",
    "# 埋め込みの取得\n",
    "# -----------\n",
    "# モデルを推論モードに切り替え\n",
    "model.eval() \n",
    "\n",
    "# ノード埋め込みベクトル（行列）を得る\n",
    "X_n2v = model().detach().numpy()"
   ]
  },
  {
   "cell_type": "markdown",
   "id": "1d456cfb-4414-4e99-8f49-62071e73a4bc",
   "metadata": {
    "editable": true,
    "slideshow": {
     "slide_type": ""
    },
    "tags": []
   },
   "source": [
    "### Q4: 論文ジャンルの分類（2/2） - 分類器の構築\n",
    "\n",
    "Q3で得たノードの埋め込みベクトルとcoraデータセットの論文カテゴリラベルを用いて，論文のカテゴリを推定する分類器を構築したい．\n",
    "ベクトルデータを入力とする機械学習手法を用いて分類器を構築し，5分割交差検証を用いて構築した分類器のマクロ適合率，マクロ再現率，マクロF1値を算出しなさい．\n",
    "なお，用いる機械学習手法は自由とする．"
   ]
  },
  {
   "cell_type": "markdown",
   "id": "2e38deff-3350-4521-915b-2f76a0e07a11",
   "metadata": {
    "editable": true,
    "slideshow": {
     "slide_type": ""
    },
    "tags": []
   },
   "source": [
    "##### ヒント1\n",
    "マクロ適合率（再現率，F1値）とは，他クラス分類問題の性能評価に用いられる評価基準である．\n",
    "クラスごとに適合率（再現率，F1値）を計算した後，それらの平均値を取ることで算出する．\n",
    "Pythonのscikit-learnライブラリを用いれば，以下のように簡単に計算できる．"
   ]
  },
  {
   "cell_type": "code",
   "execution_count": null,
   "id": "dc8134a0-b1dd-47d3-8247-3238d8e898b3",
   "metadata": {
    "editable": true,
    "slideshow": {
     "slide_type": ""
    },
    "tags": []
   },
   "outputs": [],
   "source": [
    "from sklearn.metrics import precision_score, recall_score, f1_score\n",
    "\n",
    "y_predicted = [0, 1, 2, 0, 0, 0, 2, 1, 1] # 予想されたクラスのリスト\n",
    "y_test = [0, 1, 2, 0, 1, 2, 0, 2, 2] # 正解クラスのリスト\n",
    "\n",
    "# 評価スコアの計算\n",
    "precision = precision_score(y_test, y_predicted, average='macro')\n",
    "recall = recall_score(y_test, y_predicted, average='macro')\n",
    "f1 = f1_score(y_test, y_predicted, average='macro')\n",
    "\n",
    "print(f\"Macro precision: {precision}\")\n",
    "print(f\"Macro recall: {recall}\")\n",
    "print(f\"Macro F1-score: {f1}\")"
   ]
  },
  {
   "cell_type": "markdown",
   "id": "9d539c95-29ed-4282-aace-338f8fdf9bb5",
   "metadata": {
    "editable": true,
    "slideshow": {
     "slide_type": ""
    },
    "tags": []
   },
   "source": [
    "##### ヒント2\n",
    "\n",
    "Coraデータセットに含まれる各論文の分野カテゴリラベルは，以下のコードで取り出すことができる．"
   ]
  },
  {
   "cell_type": "code",
   "execution_count": null,
   "id": "09c372a6-bf10-4b5a-a0ca-150585020a47",
   "metadata": {
    "editable": true,
    "slideshow": {
     "slide_type": ""
    },
    "tags": []
   },
   "outputs": [],
   "source": [
    "from torch_geometric.datasets import Planetoid\n",
    "\n",
    "# paper_datasetはPyGで扱えるグラフのデータ構造\n",
    "paper_dataset = Planetoid(root=\"tmp\", name=\"cora\", split='full')\n",
    "\n",
    "# 分野カテゴリラベル情報を取り出す\n",
    "y = paper_dataset.y\n",
    "\n",
    "y"
   ]
  }
 ],
 "metadata": {
  "kernelspec": {
   "display_name": "Python 3 (ipykernel)",
   "language": "python",
   "name": "python3"
  },
  "language_info": {
   "codemirror_mode": {
    "name": "ipython",
    "version": 3
   },
   "file_extension": ".py",
   "mimetype": "text/x-python",
   "name": "python",
   "nbconvert_exporter": "python",
   "pygments_lexer": "ipython3",
   "version": "3.10.13"
  }
 },
 "nbformat": 4,
 "nbformat_minor": 5
}
