{
 "cells": [
  {
   "cell_type": "markdown",
   "id": "359cc2a8-7fdd-48c2-9775-efe14eff3f0f",
   "metadata": {
    "editable": true,
    "slideshow": {
     "slide_type": ""
    },
    "tags": []
   },
   "source": [
    "# ウェブとグラフ"
   ]
  },
  {
   "cell_type": "code",
   "execution_count": 1,
   "id": "75e9a9be-4b66-4927-8cdb-5a27324a6850",
   "metadata": {
    "editable": true,
    "slideshow": {
     "slide_type": ""
    },
    "tags": [
     "remove-output",
     "hide-input"
    ]
   },
   "outputs": [],
   "source": [
    "import numpy as np\n",
    "import networkx as nx\n",
    "\n",
    "%matplotlib inline"
   ]
  },
  {
   "cell_type": "markdown",
   "id": "8d6b3cf9-3750-4388-a6a7-959f22064222",
   "metadata": {
    "editable": true,
    "slideshow": {
     "slide_type": ""
    },
    "tags": []
   },
   "source": [
    "## クイズ"
   ]
  },
  {
   "cell_type": "markdown",
   "id": "1724dfbb-6401-42ea-8308-1adf0a536c0d",
   "metadata": {},
   "source": [
    "### Q1: デッドリンク，スパイダートラップのあるグラフ\n",
    "\n",
    "![](../../img/deadend-and-spidertrap.jpg)\n",
    "\n",
    "上記の各グラフに対してシンプルなPageRankアルゴリズムを適用すると，どのような値に収束するか．\n",
    "Pythonコードを書いて確かめなさい．"
   ]
  },
  {
   "cell_type": "code",
   "execution_count": 2,
   "id": "40bca62f-c613-4d9e-bfcb-cb7cba1ae8f1",
   "metadata": {},
   "outputs": [],
   "source": [
    "import networkx as nx\n",
    "\n",
    "# グラフの定義\n",
    "G_deadend = nx.DiGraph([\n",
    "    ('A', 'B'), ('A', 'C'), ('A', 'D'),\n",
    "    ('B', 'A'), ('B', 'D'),\n",
    "    ('D', 'B'),\n",
    "])\n",
    "\n",
    "G_spidertrap = nx.DiGraph([\n",
    "    ('A', 'B'), ('A', 'C'), ('A', 'D'),\n",
    "    ('B', 'A'), ('B', 'D'),\n",
    "    ('C', 'C'), ('D', 'B'),\n",
    "])\n",
    "\n",
    "\n",
    "# Write your codes below\n"
   ]
  },
  {
   "cell_type": "code",
   "execution_count": 3,
   "id": "ecaca260-9b95-4ebb-a791-58ea2aa5f22d",
   "metadata": {},
   "outputs": [],
   "source": [
    "import networkx as nx\n",
    "import numpy as np\n",
    "\n",
    "# 行列の正規化のために使う\n",
    "from sklearn.preprocessing import normalize\n",
    "\n",
    "\n",
    "def calc_simple_pagerank(G, iter_count=100):\n",
    "    # PageRankベクトルを初期化する\n",
    "    N = G.number_of_nodes()\n",
    "    p = np.ones(N).reshape(-1, 1) # 要素値1，要素数がNの縦ベクトル\n",
    "    p = p / N \n",
    "    \n",
    "    # 隣接行列\n",
    "    A = nx.adjacency_matrix(G).toarray()\n",
    "    # 遷移確率行列\n",
    "    M = normalize(A, norm='l1', axis=1)\n",
    "\n",
    "    # PageRank値の更新．100回も繰り返せば値は収束する\n",
    "    for i in range(iter_count):\n",
    "        p = np.dot(M.T, p)\n",
    "\n",
    "    return p\n",
    "\n",
    "\n",
    "# グラフの定義\n",
    "G_deadend = nx.DiGraph([\n",
    "    ('A', 'B'), ('A', 'C'), ('A', 'D'),\n",
    "    ('B', 'A'), ('B', 'D'),\n",
    "    ('D', 'B'),\n",
    "])\n",
    "\n",
    "\n",
    "G_spidertrap = nx.DiGraph([\n",
    "    ('A', 'B'), ('A', 'C'), ('A', 'D'),\n",
    "    ('B', 'A'), ('B', 'D'),\n",
    "    ('C', 'C'), ('D', 'B'),\n",
    "])"
   ]
  },
  {
   "cell_type": "code",
   "execution_count": 4,
   "id": "c3f78128-1b1c-4ceb-a6c9-e917869d2a47",
   "metadata": {},
   "outputs": [
    {
     "data": {
      "text/plain": [
       "array([[2.28742507e-37],\n",
       "       [4.21206421e-37],\n",
       "       [8.28147147e-38],\n",
       "       [3.11557222e-37]])"
      ]
     },
     "execution_count": 4,
     "metadata": {},
     "output_type": "execute_result"
    }
   ],
   "source": [
    "calc_simple_pagerank(G_deadend, iter_count=1000) "
   ]
  },
  {
   "cell_type": "code",
   "execution_count": 5,
   "id": "f6bb221d-0a51-4a25-8ded-3623bbc7850a",
   "metadata": {},
   "outputs": [
    {
     "data": {
      "text/plain": [
       "array([[2.28742507e-37],\n",
       "       [4.21206421e-37],\n",
       "       [1.00000000e+00],\n",
       "       [3.11557222e-37]])"
      ]
     },
     "execution_count": 5,
     "metadata": {},
     "output_type": "execute_result"
    }
   ],
   "source": [
    "calc_simple_pagerank(G_spidertrap, iter_count=1000) "
   ]
  },
  {
   "cell_type": "markdown",
   "id": "4db5c1ea-e645-4a1a-9d07-095f8d6e198a",
   "metadata": {
    "editable": true,
    "slideshow": {
     "slide_type": ""
    },
    "tags": []
   },
   "source": [
    "### Q2: PageRank実装\n",
    "NetworkXの`pagerank`関数を用いずに，（完全な）PageRank値を計算する関数`calc_pagerank`を実装しなさい．\n",
    "なお，`calc_pagerank`関数の引数は以下としなさい：\n",
    "- 第1引数: NetworkX形式のグラフ$G$\n",
    "- 第2引数: $\\alpha$パラメータ．デフォルト値は0.85\n",
    "- 第3引数: 更新回数．デフォルト値は50"
   ]
  },
  {
   "cell_type": "code",
   "execution_count": 6,
   "id": "34105895-6e18-4d3f-b4eb-0e7d0cf3bcd0",
   "metadata": {
    "editable": true,
    "slideshow": {
     "slide_type": ""
    },
    "tags": []
   },
   "outputs": [],
   "source": [
    "import networkx as nx\n",
    "import numpy as np\n",
    "from sklearn.preprocessing import normalize\n",
    "\n",
    "\n",
    "def calc_pagerank(G, alpha=0.85, iteration_num=50):\n",
    "    n = G.number_of_nodes()\n",
    "\n",
    "    # 隣接行列\n",
    "    A = nx.adjacency_matrix(G).toarray()\n",
    "\n",
    "    # 遷移確率行列\n",
    "    M = normalize(A, norm='l1', axis=1)\n",
    "\n",
    "    # PageRankベクトル\n",
    "    p = np.ones(n).reshape(-1, 1)\n",
    "    p = normalize(p, norm='l1', axis=0)\n",
    "\n",
    "    # Random jumpベクトル\n",
    "    e = np.ones(n).reshape(-1, 1)\n",
    "\n",
    "    for step in range(iteration_num):\n",
    "        p = alpha * np.dot(M.T, p) + (1-alpha) * (e / n)\n",
    "\n",
    "    # スコアとノードを紐付ける\n",
    "    # pはPageRankの縦ベクトルで，スコアはG.nodes()のリスト順に並んでいる\n",
    "    nodes = G.nodes()\n",
    "    scores = {}\n",
    "    for node, score in zip(nodes, p):\n",
    "        scores[node] = score[0]\n",
    "\n",
    "    return scores"
   ]
  },
  {
   "cell_type": "code",
   "execution_count": 7,
   "id": "b3ca4138-fd54-4ea3-ba24-c23ff6e77959",
   "metadata": {},
   "outputs": [
    {
     "data": {
      "text/plain": [
       "{'A': np.float64(0.1284619622389122),\n",
       " 'B': np.float64(0.2140281464438752),\n",
       " 'C': np.float64(0.07389755596778783),\n",
       " 'D': np.float64(0.1648595182067)}"
      ]
     },
     "execution_count": 7,
     "metadata": {},
     "output_type": "execute_result"
    }
   ],
   "source": [
    "calc_pagerank(G_deadend, alpha=0.85, iteration_num=100) \n",
    "\n",
    "# networkxのpagerank関数で計算\n",
    "# nx.pagerank(G_deadend, alpha=0.85)"
   ]
  },
  {
   "cell_type": "code",
   "execution_count": 8,
   "id": "8e2dab76-a0c6-455c-93d5-264ccedc7493",
   "metadata": {},
   "outputs": [
    {
     "data": {
      "text/plain": [
       "{'A': np.float64(0.1284619622389122),\n",
       " 'B': np.float64(0.2140281464438752),\n",
       " 'C': np.float64(0.4926503731105125),\n",
       " 'D': np.float64(0.1648595182067)}"
      ]
     },
     "execution_count": 8,
     "metadata": {},
     "output_type": "execute_result"
    }
   ],
   "source": [
    "calc_pagerank(G_spidertrap, alpha=0.85, iteration_num=100)\n",
    "\n",
    "# networkxのpagerank関数で計算\n",
    "# nx.pagerank(G_spidertrap, alpha=0.85)"
   ]
  },
  {
   "cell_type": "markdown",
   "id": "c2139ca4-ae58-4d6e-9ca4-360c70b0bcf6",
   "metadata": {
    "editable": true,
    "slideshow": {
     "slide_type": ""
    },
    "tags": []
   },
   "source": [
    "### Q3: 江戸時代の人物\n",
    "\n",
    "[コチラ](https://raw.githubusercontent.com/hontolab-courses/graph-analysis-lecturenote/refs/heads/main/content/data/edo.gml)からダウンロードできるファイル（`edo.gml`）は，Wikipediaの[江戸時代の人物一覧](https://ja.wikipedia.org/wiki/%E6%B1%9F%E6%88%B8%E6%99%82%E4%BB%A3%E3%81%AE%E4%BA%BA%E7%89%A9%E4%B8%80%E8%A6%A7)に掲載された歴史上の人物をノード，人物記事から人物記事へのリンクをエッジとするグラフデータを格納したものである．\n",
    "例えば，[江戸時代の人物一覧](https://ja.wikipedia.org/wiki/%E6%B1%9F%E6%88%B8%E6%99%82%E4%BB%A3%E3%81%AE%E4%BA%BA%E7%89%A9%E4%B8%80%E8%A6%A7)に掲載されている[徳川家康](https://ja.wikipedia.org/wiki/%E5%BE%B3%E5%B7%9D%E5%AE%B6%E5%BA%B7)の記事には，同じく江戸時代の人物一覧に掲載された[伊達政宗](https://ja.wikipedia.org/wiki/%E4%BC%8A%E9%81%94%E6%94%BF%E5%AE%97)への記事へのリンクが存在するため，グラフ中では徳川家康ノードから伊達政宗ノードへエッジが存在する．\n",
    "\n",
    "※ 江戸時代に活躍した人物でも[江戸時代の人物一覧](https://ja.wikipedia.org/wiki/%E6%B1%9F%E6%88%B8%E6%99%82%E4%BB%A3%E3%81%AE%E4%BA%BA%E7%89%A9%E4%B8%80%E8%A6%A7)に掲載されていない人物も存在する．例えば，坂本龍馬は[幕末の人物一覧](https://ja.wikipedia.org/wiki/%E5%B9%95%E6%9C%AB%E3%81%AE%E4%BA%BA%E7%89%A9%E4%B8%80%E8%A6%A7)には掲載されているが，江戸時代の人物一覧には掲載されていない．\n",
    "\n",
    "![](../../img/edo.png)"
   ]
  },
  {
   "cell_type": "markdown",
   "id": "a3872ac3-a6b9-4beb-8bd4-1554239a4b72",
   "metadata": {
    "editable": true,
    "slideshow": {
     "slide_type": ""
    },
    "tags": []
   },
   "source": [
    "上のグラフ$G_{edo}$は，ダウンロードしたファイル`edo.gml`をNetworkXで読み込み，可視化したものである．\n",
    "グラフ$G_{edo}$にPageRankアルゴリズムを適用し，江戸時代の人物のPageRankスコア上位30名を求めなさい．\n",
    "\n",
    "なお，[コチラ](https://raw.githubusercontent.com/hontolab-courses/graph-analysis-lecturenote/refs/heads/main/content/data/edo.gml)からダウンロードしたファイル`edo.gml`をNetworkXで読み込むには，以下のコードを実行するとよい．"
   ]
  },
  {
   "cell_type": "code",
   "execution_count": 9,
   "id": "29499325-d85e-41d7-99f9-72f7386046d9",
   "metadata": {
    "editable": true,
    "slideshow": {
     "slide_type": ""
    },
    "tags": []
   },
   "outputs": [],
   "source": [
    "# ダウンロードしたファイルは`../../data/edo.gml`にあるとする（ファイルの保存先はどこでもよい）\n",
    "G_edo = nx.read_gml(\"../../data/edo.gml\")"
   ]
  },
  {
   "cell_type": "code",
   "execution_count": 10,
   "id": "fcb87b77-fca1-4ab6-a674-4f493370b591",
   "metadata": {
    "editable": true,
    "slideshow": {
     "slide_type": ""
    },
    "tags": []
   },
   "outputs": [
    {
     "data": {
      "text/plain": [
       "[('徳川家康', 0.018839762302814107),\n",
       " ('徳川秀忠', 0.014647218544087416),\n",
       " ('徳川家光', 0.014047416609427236),\n",
       " ('徳川家斉', 0.012598052079051706),\n",
       " ('本居宣長', 0.011830566523394653),\n",
       " ('徳川吉宗', 0.011773042353908645),\n",
       " ('徳川綱吉', 0.011379371758192062),\n",
       " ('徳川家綱', 0.011171561521555138),\n",
       " ('徳川慶喜', 0.011138666353330481),\n",
       " ('徳川家茂', 0.010507868445224694),\n",
       " ('徳川家慶', 0.009884146816649652),\n",
       " ('松平定信', 0.009392933122066285),\n",
       " ('徳川家宣', 0.008896610471324763),\n",
       " ('徳川家治', 0.008604448734614417),\n",
       " ('徳川家定', 0.008493599171781604),\n",
       " ('明治天皇', 0.007086237830509613),\n",
       " ('徳川家重', 0.007052635452644552),\n",
       " ('後水尾天皇', 0.006904194401312377),\n",
       " ('徳川家継', 0.006611535953116792),\n",
       " ('勝海舟', 0.0064994578679011105),\n",
       " ('孝明天皇', 0.0060884018726106515),\n",
       " ('新井白石', 0.005977341340214977),\n",
       " ('土井利勝', 0.0059182449246124634),\n",
       " ('井伊直弼', 0.005901239051554294),\n",
       " ('水野忠邦', 0.005813149832871907),\n",
       " ('霊元天皇', 0.005774414315342403),\n",
       " ('徳川光圀', 0.005711989954209582),\n",
       " ('徳川斉昭', 0.005482055689677943),\n",
       " ('後陽成天皇', 0.005434813926403158),\n",
       " ('堀田正俊', 0.005354027523454542)]"
      ]
     },
     "execution_count": 10,
     "metadata": {},
     "output_type": "execute_result"
    }
   ],
   "source": [
    "sorted(nx.pagerank(G_edo).items(), key=lambda x: -x[1])[:30]"
   ]
  },
  {
   "cell_type": "markdown",
   "id": "0666b92f-0c4f-43b2-9b36-59df5054e310",
   "metadata": {
    "editable": true,
    "slideshow": {
     "slide_type": ""
    },
    "tags": []
   },
   "source": [
    "### Q4: Biased PageRank\n",
    "\n",
    "オリジナルのPageRankアルゴリズムでは，ページに直接ジャンプする行動に対応する項のベクトルの要素値（以下の式の第2項）は，すべて$\\frac{1}{N}$としていた．\n",
    "このベクトルを調整することで，特定ノードの影響を強めてPageRankの値を補正することができる．\n",
    "\n",
    "$$\n",
    "\\boldsymbol{p}_{n+1} = \\alpha \\boldsymbol{M}^T \\boldsymbol{p}_{n} + (1 - \\alpha) \\frac{\\boldsymbol{e}}{N}\n",
    "$$\n",
    "\n",
    "Q3のPageRankの計算にて，直接ジャンプ項のベクトルの要素値について，\n",
    "- 賴山陽，本居宣長，杉田玄白，関孝和に対応する値は$\\frac{1}{4}$に\n",
    "- 上記人物以外についてはゼロ\n",
    "\n",
    "になるように設定し，再度PageRankを計算し，その値の上位30位の人物を求めなさい．\n",
    "\n",
    "\n",
    "ヒント: NetworkXの`pagerank`関数を用いず自力で行列計算で行う場合は，賴山陽，本居宣長，杉田玄白，関孝和の値がベクトルの何番目に対応するかを調べる必要がある．\n"
   ]
  },
  {
   "cell_type": "code",
   "execution_count": 11,
   "id": "9d74febe-ac87-467e-aa5b-fdb365de0c9e",
   "metadata": {
    "editable": true,
    "slideshow": {
     "slide_type": ""
    },
    "tags": []
   },
   "outputs": [
    {
     "data": {
      "text/plain": [
       "[('本居宣長', 0.05294197147616238),\n",
       " ('頼山陽', 0.04865239702615813),\n",
       " ('杉田玄白', 0.04612835279276951),\n",
       " ('関孝和', 0.04044423029554557),\n",
       " ('徳川家康', 0.021165746468947495),\n",
       " ('松平定信', 0.015156447218174232),\n",
       " ('青木木米', 0.014676176541022448),\n",
       " ('徳川家宣', 0.014377544173175227),\n",
       " ('徳川家斉', 0.012966685400068189),\n",
       " ('田能村竹田', 0.012829374427864422),\n",
       " ('徳川吉宗', 0.010273675810803597),\n",
       " ('徳川秀忠', 0.010045276685500728),\n",
       " ('前野良沢', 0.009550512653600216),\n",
       " ('徳川家光', 0.009474795245899703),\n",
       " ('大塩平八郎', 0.00915260213827142),\n",
       " ('徳川忠長', 0.008788925118252702),\n",
       " ('広瀬淡窓', 0.00874965211440414),\n",
       " ('徳川綱吉', 0.008542533098561473),\n",
       " ('賀茂真淵', 0.008375863909818452),\n",
       " ('平賀源内', 0.008148224134917779),\n",
       " ('吉田光由', 0.007691175715584278),\n",
       " ('徳川家綱', 0.0076813868698666216),\n",
       " ('桂川甫周', 0.007643382451930731),\n",
       " ('荻生徂徠', 0.00739579264262577),\n",
       " ('徳川家茂', 0.00715096531559155),\n",
       " ('中川淳庵', 0.007106550328599372),\n",
       " ('上田秋成', 0.0069757039831886206),\n",
       " ('角倉了以', 0.006923711051102907),\n",
       " ('渋川春海', 0.0066795973448305875),\n",
       " ('徳川慶喜', 0.0066363912722926304)]"
      ]
     },
     "execution_count": 11,
     "metadata": {},
     "output_type": "execute_result"
    }
   ],
   "source": [
    "sorted(nx.pagerank(G_edo, personalization={'頼山陽': 1, '本居宣長': 1, '杉田玄白': 1, '関孝和': 1}).items(), key=lambda x: -x[1])[:30]"
   ]
  }
 ],
 "metadata": {
  "kernelspec": {
   "display_name": "Python 3 (ipykernel)",
   "language": "python",
   "name": "python3"
  },
  "language_info": {
   "codemirror_mode": {
    "name": "ipython",
    "version": 3
   },
   "file_extension": ".py",
   "mimetype": "text/x-python",
   "name": "python",
   "nbconvert_exporter": "python",
   "pygments_lexer": "ipython3",
   "version": "3.12.11"
  }
 },
 "nbformat": 4,
 "nbformat_minor": 5
}
