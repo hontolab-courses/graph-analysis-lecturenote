{
 "cells": [
  {
   "cell_type": "markdown",
   "id": "6c586ca3-daf8-41f9-b9ff-b55e72e72210",
   "metadata": {},
   "source": [
    "# ノードの中心性"
   ]
  },
  {
   "cell_type": "code",
   "execution_count": 1,
   "id": "7e78e92f-8328-4e0d-a2a2-8e556e550173",
   "metadata": {
    "editable": true,
    "slideshow": {
     "slide_type": ""
    },
    "tags": [
     "hide-input",
     "remove-output"
    ]
   },
   "outputs": [],
   "source": [
    "import numpy as np\n",
    "import networkx as nx\n",
    "\n",
    "%matplotlib inline"
   ]
  },
  {
   "cell_type": "code",
   "execution_count": 27,
   "id": "fd97b1d0-d3aa-40a1-94ae-07ad60eb7e78",
   "metadata": {
    "editable": true,
    "slideshow": {
     "slide_type": ""
    },
    "tags": [
     "hide-input",
     "remove-output"
    ]
   },
   "outputs": [],
   "source": [
    "DRAW_CONFIG = {\n",
    "    'node_color': 'white',\n",
    "    'edgecolors': 'black', # line color of nodes\n",
    "    'with_labels': True,\n",
    "    'node_size': 600,\n",
    "    'font_size': 14,\n",
    "    'font_family': 'Arial',\n",
    "}"
   ]
  },
  {
   "attachments": {},
   "cell_type": "markdown",
   "id": "5f7f9836-7511-477b-b3ac-1806d0b138e9",
   "metadata": {
    "editable": true,
    "slideshow": {
     "slide_type": ""
    },
    "tags": []
   },
   "source": [
    "ノードの**中心性（centrality）** とは，グラフにおける各ノードの重要性を示す指標であり，中心性の大きさはグラフ構造に基づき計算される．\n",
    "ノードの中心性は，重要ノードの発見やノードのランキングなどに利用される．\n",
    "ノード中心性評価はグラフ分析における典型的タスクである．\n",
    "\n",
    "中心性指標は様々なものが提案されている．\n",
    "以下は代表的な中心性であるが，分析に適した中心性はグラフの何に注目したいかによって変わる．\n",
    "\n",
    "以下，代表的な中心性について述べる．"
   ]
  },
  {
   "cell_type": "markdown",
   "id": "0ce86b12-c71d-4f16-9d9d-9f21c5abd1bd",
   "metadata": {
    "editable": true,
    "slideshow": {
     "slide_type": ""
    },
    "tags": []
   },
   "source": [
    "## 近接中心性"
   ]
  },
  {
   "attachments": {},
   "cell_type": "markdown",
   "id": "ece1bf32-15c7-4f70-802b-44f25531cc7b",
   "metadata": {
    "editable": true,
    "slideshow": {
     "slide_type": ""
    },
    "tags": []
   },
   "source": [
    "**近接中心性（closeness centrality）** は，注目ノードとグラフ中の他のノードとの距離が平均的にどの程度近いかを示す指標である．\n",
    "「中心性」という言葉の直感に最も合う中心性指標かもしれない．\n",
    "グラフ$G=(V, E)$に属するノード$v_i$からノード$v_j$への最短経路を$dist(v_i, v_j)$，ノード$v_i$に接するノード集合を$V_{adjacent}$としたとき，ノード$v_i$の近接中心性$c_{closeness}(v_i)$は\n",
    "\n",
    "$$\n",
    "c_{closeness}(v_i) = \\frac{1}{v_iからの平均距離}\n",
    "=\\frac{|V|-1}{\\sum_{v_j \\in V_{adjacent}}dist(v_i, v_j)}\n",
    "$$\n",
    "\n",
    "と定義される．\n",
    "平均値の計算の際，$|V|$ではなく$|V|-1$で割るのは，計算対象となる自分自身を除いたノードの平均を取りたいからである．\n",
    "また，平均距離の逆数をとっているのは，距離が近いと中心性スコアの値が大きくなるようにするためである．"
   ]
  },
  {
   "cell_type": "code",
   "execution_count": 34,
   "id": "189fe626-3d66-4cf4-8c5a-32667b6a5f4d",
   "metadata": {
    "editable": true,
    "slideshow": {
     "slide_type": ""
    },
    "tags": [
     "remove-input"
    ]
   },
   "outputs": [
    {
     "data": {
      "image/png": "[encoded data removed]",
      "text/plain": [
       "<Figure size 640x480 with 1 Axes>"
      ]
     },
     "metadata": {},
     "output_type": "display_data"
    }
   ],
   "source": [
    "G_bull = nx.Graph([(0, 1), (1, 2), (2, 0), (1, 3), (2, 4), (4, 5)])\n",
    "pos = nx.spring_layout(G_bull, seed=12345)\n",
    "nx.draw(G_bull, pos, **DRAW_CONFIG)"
   ]
  },
  {
   "cell_type": "markdown",
   "id": "ba65544e-832d-42e3-97c7-728a6e9e0e7d",
   "metadata": {
    "editable": true,
    "slideshow": {
     "slide_type": ""
    },
    "tags": []
   },
   "source": [
    "上のグラフ$G_{bull}$に属するノード2とノード5の近接中心性を考えてみよう．\n",
    "ノード2とノード5から他のノードへの（最短）距離は以下の図のようになる．\n",
    "\n",
    "![](img/closeness-example.jpg)\n",
    "\n",
    "これら距離の値を先の近接中心性の定義式に当てはめると，\n",
    "- ノード2の近接中心性は$\\frac{5}{7}$\n",
    "- ノード5の近接中心性は$\\frac{5}{13}$\n",
    "\n",
    "となる．\n",
    "\n",
    "近接中心性をNetworkXで求めるには`closeness_centrality`関数を用いる．\n",
    "以下，上のグラフ$G_{bull}$の各ノードの近接中心性を求めるコードである．"
   ]
  },
  {
   "cell_type": "code",
   "execution_count": 35,
   "id": "7dfc1a2d-4ed5-44ab-afa1-0fc3969ceb95",
   "metadata": {
    "editable": true,
    "slideshow": {
     "slide_type": ""
    },
    "tags": []
   },
   "outputs": [
    {
     "data": {
      "text/plain": [
       "{0: 0.5555555555555556,\n",
       " 1: 0.625,\n",
       " 2: 0.7142857142857143,\n",
       " 3: 0.4166666666666667,\n",
       " 4: 0.5555555555555556,\n",
       " 5: 0.38461538461538464}"
      ]
     },
     "execution_count": 35,
     "metadata": {},
     "output_type": "execute_result"
    }
   ],
   "source": [
    "# グラフを定義しておく\n",
    "G_bull = nx.Graph([(0, 1), (1, 2), (2, 0), (1, 3), (2, 4), (4, 5)])\n",
    "\n",
    "# 近接中心性\n",
    "nx.closeness_centrality(G_bull)"
   ]
  },
  {
   "cell_type": "markdown",
   "id": "81e67ebd-62d6-40ab-96ae-3947f8937c83",
   "metadata": {
    "editable": true,
    "slideshow": {
     "slide_type": ""
    },
    "tags": []
   },
   "source": [
    "## 次数中心性"
   ]
  },
  {
   "cell_type": "markdown",
   "id": "5a41ba68-e86c-4976-aca5-6bf37fbb1659",
   "metadata": {
    "editable": true,
    "slideshow": {
     "slide_type": ""
    },
    "tags": []
   },
   "source": [
    "**次数中心性（degree centrality）** は，注目ノードがいくつのノードと接しているか（どの程度エッジを持つか）を示す指標である．\n",
    "なんのこっちゃない，[前回](graph-structure-features.ipynb)で説明した次数を使った指標である．\n",
    "\n",
    "グラフ$G=(V, E)$に属するノード$v$が持つエッジ数を$deg(v)$としたとき，ノード$v_i$の次数中心性$c_{degree}(v)$は\n",
    "\n",
    "$$\n",
    "c_{degree}(v) = deg(v)\n",
    "$$\n",
    "\n",
    "である．\n",
    "式から明らかなとおり，次数中心性は次数である．\n",
    "上の定義の場合，グラフのサイズが大きくなると次数中心性も大きくなり，中心性の相対的な差が分かりづらくなる．\n",
    "そのため，以下のように，次数をノード数で正規化したものを次数中心性とする場合もある．\n",
    "\n",
    "$$\n",
    "c_{degree}(v) = \\frac{deg(v)}{|V|-1}\n",
    "$$\n",
    "\n",
    "近接中心性の説明で用いたグラフ$G_{bull}$において，ノード2の正規化していない次数中心性は3である．\n",
    "また，正規化されたノード2の次数中心性は$3/5=0.6$となる．"
   ]
  },
  {
   "cell_type": "markdown",
   "id": "4b6a0433-77bb-47dd-8bcd-60ad2ff07174",
   "metadata": {
    "editable": true,
    "slideshow": {
     "slide_type": ""
    },
    "tags": []
   },
   "source": [
    "正規化された次数中心性をNetworkXで求めるには`degree_centrality`関数を用いる．\n",
    "以下，上のグラフ$G_{bull}$の各ノードの次数中心性を求めるコードである．"
   ]
  },
  {
   "cell_type": "code",
   "execution_count": 39,
   "id": "34c2f177-f196-4fc0-9e63-74afdf88c52f",
   "metadata": {
    "editable": true,
    "slideshow": {
     "slide_type": ""
    },
    "tags": []
   },
   "outputs": [
    {
     "data": {
      "text/plain": [
       "{0: 0.4, 1: 0.6000000000000001, 2: 0.6000000000000001, 3: 0.2, 4: 0.4, 5: 0.2}"
      ]
     },
     "execution_count": 39,
     "metadata": {},
     "output_type": "execute_result"
    }
   ],
   "source": [
    "# 正規化された次数中心性\n",
    "nx.degree_centrality(G_bull)\n",
    "\n",
    "# 正規化されていない次数中心性は以下で求められる（既出）\n",
    "# G_bull.degree"
   ]
  },
  {
   "cell_type": "markdown",
   "id": "dcfd1100-f92c-43d1-b24c-04e043fd4656",
   "metadata": {
    "editable": true,
    "slideshow": {
     "slide_type": ""
    },
    "tags": []
   },
   "source": [
    "有向グラフにおいては，次数中心性を**入次数**（ノードに入ってくるエッジの数）と**出次数**（ノードから出て行くエッジの数）に分けて考えることができる．\n",
    "例えば以下のグラフ$G_{directedbull}$において，\n",
    "- ノード2の入次数は3，出次数は0\n",
    "- ノード1の入次数は2，出次数は2\n",
    "\n",
    "となる．"
   ]
  },
  {
   "cell_type": "code",
   "execution_count": null,
   "id": "638ba311-c2ee-4919-b613-39e997393f38",
   "metadata": {
    "editable": true,
    "slideshow": {
     "slide_type": ""
    },
    "tags": [
     "remove-input"
    ]
   },
   "outputs": [],
   "source": [
    "G_directed_bull = nx.DiGraph([(0, 1), (1, 2), (0, 2), (3, 1), (1, 3), (4, 2), (4, 5)])\n",
    "nx.draw(G_directed_bull, pos, **DRAW_CONFIG)"
   ]
  },
  {
   "cell_type": "markdown",
   "id": "681203cd-3fbd-4e3c-8c27-0d87145365ec",
   "metadata": {
    "editable": true,
    "slideshow": {
     "slide_type": ""
    },
    "tags": []
   },
   "source": [
    "入次数中心性，出次数中心性をNetworkXで求めるには`in_degree_centrality`および`out_degree_centrality`関数を用いる．\n",
    "以下，上のグラフ$G_{directedbull}$の各ノードの次数中心性を求めるコードである．"
   ]
  },
  {
   "cell_type": "code",
   "execution_count": 41,
   "id": "69e9570c-caf2-4969-b36b-04b257286388",
   "metadata": {
    "editable": true,
    "slideshow": {
     "slide_type": ""
    },
    "tags": []
   },
   "outputs": [
    {
     "data": {
      "text/plain": [
       "{0: 0.0, 1: 0.4, 2: 0.6000000000000001, 3: 0.2, 4: 0.0, 5: 0.2}"
      ]
     },
     "execution_count": 41,
     "metadata": {},
     "output_type": "execute_result"
    }
   ],
   "source": [
    "# グラフを定義しておく\n",
    "G_directed_bull = nx.DiGraph([(0, 1), (1, 2), (0, 2), (3, 1), (1, 3), (4, 2), (4, 5)])\n",
    "\n",
    "# 正規化された入次数中心性\n",
    "nx.in_degree_centrality(G_directed_bull)"
   ]
  },
  {
   "cell_type": "code",
   "execution_count": 42,
   "id": "dff9309f-6ee5-4dc5-bbeb-b13d9b6e8151",
   "metadata": {
    "editable": true,
    "slideshow": {
     "slide_type": ""
    },
    "tags": []
   },
   "outputs": [
    {
     "data": {
      "text/plain": [
       "{0: 0.4, 1: 0.4, 2: 0.0, 3: 0.2, 4: 0.4, 5: 0.0}"
      ]
     },
     "execution_count": 42,
     "metadata": {},
     "output_type": "execute_result"
    }
   ],
   "source": [
    "# 正規化された出次数中心性\n",
    "nx.out_degree_centrality(G_directed_bull)"
   ]
  },
  {
   "cell_type": "markdown",
   "id": "8b5f1c8b-6f8e-4396-b925-95d5fd113ed6",
   "metadata": {
    "editable": true,
    "slideshow": {
     "slide_type": ""
    },
    "tags": []
   },
   "source": [
    "## 固有ベクトル中心性"
   ]
  },
  {
   "cell_type": "markdown",
   "id": "4f000640-3411-4e08-aac7-73cb1449c385",
   "metadata": {
    "editable": true,
    "slideshow": {
     "slide_type": ""
    },
    "tags": []
   },
   "source": [
    "次数中心性は極めてシンプルであるため，グラフ分析ではまず最初に用いられる中心性指標である．\n",
    "しかし，次数中心性がノードの重要度指標としてふさわしくない（or 迷う）時もある．\n",
    "以下の2つのグラフを見てみよう．"
   ]
  },
  {
   "cell_type": "code",
   "execution_count": 43,
   "id": "65160108-77e3-4554-b5f9-d44a98897387",
   "metadata": {
    "editable": true,
    "slideshow": {
     "slide_type": ""
    },
    "tags": [
     "remove-input"
    ]
   },
   "outputs": [
    {
     "data": {
      "image/png": "[encoded data removed]",
      "text/plain": [
       "<Figure size 640x480 with 1 Axes>"
      ]
     },
     "metadata": {},
     "output_type": "display_data"
    }
   ],
   "source": [
    "G = nx.star_graph(3)\n",
    "G.add_edge(2, 3)\n",
    "nx.draw(G, **DRAW_CONFIG)"
   ]
  },
  {
   "cell_type": "code",
   "execution_count": 44,
   "id": "e372dac6-cd30-471b-b321-6503806d0e4f",
   "metadata": {
    "editable": true,
    "slideshow": {
     "slide_type": ""
    },
    "tags": [
     "remove-input"
    ]
   },
   "outputs": [
    {
     "data": {
      "image/png": "[encoded data removed]",
      "text/plain": [
       "<Figure size 640x480 with 1 Axes>"
      ]
     },
     "metadata": {},
     "output_type": "display_data"
    }
   ],
   "source": [
    "G_ameba = nx.Graph([\n",
    "    (0, 1), (0, 2), (0, 3), (2, 3),\n",
    "    (1, 4), (1, 5), (4, 5),\n",
    "    (2, 6), (2, 7), (6, 7),\n",
    "    (3, 8), (3, 9), (8, 9),\n",
    "])\n",
    "\n",
    "nx.draw(G_ameba, **DRAW_CONFIG)"
   ]
  },
  {
   "cell_type": "markdown",
   "id": "0a4359fc-fe22-4904-99d6-4b0f29e6ab8d",
   "metadata": {
    "editable": true,
    "slideshow": {
     "slide_type": ""
    },
    "tags": []
   },
   "source": [
    "1つ目のグラフ$G$において，ノード0の次数中心性は3である．\n",
    "一方，2つ目のグラフ$G_{ameba}$におけるノード0の次数中心性も3である．\n",
    "\n",
    "この2つのグラフが，人物の友好関係を示していた場合のことを考えてみよう．\n",
    "どちらのグラフにおいてもノード0の人物と繋がっているのは3人であるが，グラフ$G$においてノード0に繋がっているノードは他のノードとの繋がりが少ない．\n",
    "一方，グラフ$G_{ameba}$においてノード0に繋がっているノードは，他のノードと密に繋がっている．\n",
    "言うなれば，グラフ$G_{ameba}$においてノード0は友好関係が多いノード3つと繋がっており，友好関係が乏しいノード3つと繋がっている場合よりも影響力が大きそうである．\n",
    "この観察から，ノードの重要性を評価するにはノードの数も重要だが，どんなノードと繋がっているかも重要と考えられる．\n",
    "\n",
    "この考えに基づく中心性指標が**固有ベクトル中心性（eigenvector centrality）** である．\n",
    "固有ベクトル中心性は「重要なノードと多く接続しているノードを重要」とする指標である．"
   ]
  },
  {
   "cell_type": "markdown",
   "id": "ea9de4c5-a240-410e-b30b-273c935f3e9f",
   "metadata": {
    "editable": true,
    "slideshow": {
     "slide_type": ""
    },
    "tags": []
   },
   "source": [
    "さて．この固有ベクトル中心性の定義は再帰的（堂々巡り）な定義になっているが，どのように計算するのであろうか．\n",
    "再度以下のグラフ$G$に戻って，固有ベクトル中心性を計算してみよう．"
   ]
  },
  {
   "cell_type": "code",
   "execution_count": 45,
   "id": "c66d428f-6f36-467b-8913-82ea9aeff694",
   "metadata": {
    "editable": true,
    "slideshow": {
     "slide_type": ""
    },
    "tags": [
     "remove-input"
    ]
   },
   "outputs": [
    {
     "data": {
      "image/png": "[encoded data removed]",
      "text/plain": [
       "<Figure size 640x480 with 1 Axes>"
      ]
     },
     "metadata": {},
     "output_type": "display_data"
    }
   ],
   "source": [
    "nx.draw(G, **DRAW_CONFIG)"
   ]
  },
  {
   "attachments": {},
   "cell_type": "markdown",
   "id": "4f41c295-23d3-4544-8d4f-52cfa6fca669",
   "metadata": {
    "editable": true,
    "slideshow": {
     "slide_type": ""
    },
    "tags": []
   },
   "source": [
    "とりあえず，各ノードの中心性スコアを1としてスタートしよう．\n",
    "固有ベクトル中心性の定義は「重要なノードと多く接続しているノードを重要」となっているので，あるノードの中心性を計算は，そのノードに繋がっているノードの中心性スコアの和をとることにしよう．\n",
    "例えば，ノード0の固有ベクトル中心性$c_e(v_0)$の計算は\n",
    "\n",
    "$$\n",
    "\\begin{align}\n",
    "c_e(v_0) &= c_e(v_1) + c_e(v_2) + c_e(v_3) \\\\\n",
    "&= 1 + 1 + 1 \\\\\n",
    "&= 3\n",
    "\\end{align}\n",
    "$$\n",
    "\n",
    "といった具合である．\n",
    "同じ操作を他のノードにも適用すると，\n",
    "- ノード1の中心性スコアは1\n",
    "- ノード2の中心性スコアは2\n",
    "- ノード3の中心性スコアは2\n",
    "\n",
    "となる．\n",
    "スタート時点の各ノードの中心性スコアを\n",
    "\n",
    "$$c^1_e = (1, 1, 1, 1)$$\n",
    "\n",
    "というベクトル表記で書くことにすると，定義に基づく操作後の中心性スコアは\n",
    "\n",
    "$$c^2_e=(3,1,2,2)$$\n",
    "\n",
    "と書くことができる．\n",
    "中心性スコアが更新されたので，同じ操作を繰り返してみよう．\n",
    "ただし，このまま操作をすると，中心性のスコアがどんどん大きくなっていってしまう．\n",
    "そこで，各ノードの中心性の二乗和が1になるよう制約（スコアの変換）を加えながら，同じ操作を繰り返すことにする．\n",
    "先の$c^2_e$を変換すると，変換後のベクトルは\n",
    "\n",
    "$$c^2_e=(\\frac{3}{\\sqrt{18}},\\frac{1}{\\sqrt{18}},\\frac{2}{\\sqrt{18}},\\frac{2}{\\sqrt{18}})$$\n",
    "\n",
    "となる．\n",
    "\n",
    "では，定義に従う操作をどんどん繰り返そう．\n",
    "同じ操作を$n$回繰り返した結果，中心性スコアのベクトルとして\n",
    "\n",
    "$$c^n_e=(c^n_e(v_0), c^n_e(v_1), c^n_e(v_2), c^n_e(v_3))$$\n",
    "\n",
    "が得られたとしよう．\n",
    "これを用いてn+1回目の操作を行うと，ノード0の中心性スコア$c^{n+1}_e(v_0)$は\n",
    "\n",
    "$$\n",
    "c^{n+1}_e(v_0) = c^{n+1}_e(v_1) + c^{n+1}_e(v_2) + c^{n+1}_e(v_3)\n",
    "$$\n",
    "\n",
    "となる．\n",
    "ところで，今までこの操作を何度も繰り返してきたが，グラフ$G$の隣接行列\n",
    "\n",
    "$$\n",
    "A =\n",
    "    \\left(\n",
    "    \\begin{array}{cccc}\n",
    "    0 & 1 & 1 & 1 \\\\\n",
    "    1 & 0 & 0 & 0 \\\\\n",
    "    1 & 0 & 0 & 1 \\\\\n",
    "    1 & 0 & 1 & 0 \n",
    "    \\end{array}\n",
    "    \\right)\n",
    "$$\n",
    "\n",
    "を用いると，先のノード0の中心性スコア$c^{n+1}_e(v_0)$を求める計算は，\n",
    "\n",
    "$$\n",
    "\\begin{align}\n",
    "c^{n+1}_e(v_0) &= 0 \\cdot c^{n+1}_e(v_0) + 1 \\cdot c^{n+1}_e(v_1) + 1 \\cdot c^{n+1}_e(v_2) + 1 \\cdot c^{n+1}_e(v_3) \\\\\n",
    "&= A_{0,0} \\cdot c^{n+1}_e(v_0) + A_{0,1} \\cdot c^{n+1}_e(v_1) + A_{0,2} \\cdot c^{n+1}_e(v_2) + A_{0,3} \\cdot c^{n+1}_e(v_3) \\\\\n",
    "\\end{align}\n",
    "$$\n",
    "\n",
    "と書ける．\n",
    "つまり，隣接行列$A$とベクトル$c^n_e$の積を計算し，得られたベクトルのの0番目の要素を取得することに相当する．\n",
    "ということは，$n+1$回定義に基づく中心性計算をした後のスコアベクトルは，\n",
    "\n",
    "$$\n",
    "c^{n+1}_e = Ac^{n}_e\n",
    "$$\n",
    "\n",
    "という行列で計算できる．"
   ]
  },
  {
   "cell_type": "markdown",
   "id": "676b99d9-4fb5-4fe1-b9f8-ec66be85715e",
   "metadata": {
    "editable": true,
    "slideshow": {
     "slide_type": ""
    },
    "tags": []
   },
   "source": [
    "さて，$n+1$回目まで繰り返した計算をその後も続けると，あるところでスコアが変化しなくなる．\n",
    "このときのスコアを固有ベクトル中心性の値として採用する．\n",
    "\n",
    "ところで，スコアが変化しなくなった状態は以下のように表現できる．\n",
    "\n",
    "$$\n",
    "c_e = Ac_e\n",
    "$$\n",
    "\n",
    "$\\lambda=1$とすると，上記式は\n",
    "\n",
    "$$\n",
    "\\lambda c_e = Ac_e\n",
    "$$\n",
    "\n",
    "と書き換えることができる．\n",
    "この式をどこかで見た記憶はないだろうか．\n",
    "そう，この式は行列の固有値を求めるときのものである．\n",
    "先ほどまで行ってきた計算は，実は隣接行列$A$の（第1固有値に対応する）固有ベクトルを求める操作と同じ事をしていたのである．\n",
    "これが，固有ベクトル中心性の「固有ベクトル」という修飾句の由来である．"
   ]
  },
  {
   "cell_type": "markdown",
   "id": "12090d72-d0c2-4bcb-8cc5-40054f837a91",
   "metadata": {
    "editable": true,
    "slideshow": {
     "slide_type": ""
    },
    "tags": []
   },
   "source": [
    "固有ベクトル中心性をNetworkXで求めるには`eigenvector_centrality`関数を用いる．\n",
    "以下，上のグラフ$G$の各ノードの固有ベクトル中心性を求めるコードである．"
   ]
  },
  {
   "cell_type": "code",
   "execution_count": 46,
   "id": "12863291-010f-47a6-9314-a60a659e3862",
   "metadata": {
    "editable": true,
    "slideshow": {
     "slide_type": ""
    },
    "tags": []
   },
   "outputs": [
    {
     "data": {
      "text/plain": [
       "{0: 0.6116286437343043,\n",
       " 1: 0.2818457979386572,\n",
       " 2: 0.5227204550943348,\n",
       " 3: 0.5227204550943348}"
      ]
     },
     "execution_count": 46,
     "metadata": {},
     "output_type": "execute_result"
    }
   ],
   "source": [
    "nx.eigenvector_centrality(G)"
   ]
  },
  {
   "cell_type": "markdown",
   "id": "2282e986-28d0-4d52-ba74-eecffeaa120a",
   "metadata": {
    "editable": true,
    "slideshow": {
     "slide_type": ""
    },
    "tags": []
   },
   "source": [
    "上記コードで求めた値が，上でツラツラと説明してきた繰り返し操作で得られる値と一致するか，確かめてみよう．\n",
    "隣接行列と固有ベクトル中心性の初期値をベクトルとして用意すれば，あとは\n",
    "\n",
    "1. 行列の積を採る\n",
    "2. 得られたベクトルを要素の二乗和が1になるよう変換\n",
    "\n",
    "という処理を繰り返せばよい．\n",
    "このコードは以下のように書ける．"
   ]
  },
  {
   "cell_type": "code",
   "execution_count": 49,
   "id": "f7b13cce-878e-4cfa-bfdf-140172605f59",
   "metadata": {
    "editable": true,
    "slideshow": {
     "slide_type": ""
    },
    "tags": []
   },
   "outputs": [
    {
     "data": {
      "text/plain": [
       "array([0.61162846, 0.2818452 , 0.52272073, 0.52272073])"
      ]
     },
     "execution_count": 49,
     "metadata": {},
     "output_type": "execute_result"
    }
   ],
   "source": [
    "import numpy as np\n",
    "\n",
    "# グラフGを定義\n",
    "G = nx.Graph([(0, 1), (0, 2), (0, 3), (2, 3)])\n",
    "\n",
    "# Gの隣接行列\n",
    "A = nx.adjacency_matrix(G).toarray()\n",
    "\n",
    "# 固有ベクトル中心性のベクトルを初期化（要素がすべて1のベクトル）\n",
    "x = np.ones(G.number_of_nodes())\n",
    "\n",
    "# 行列の積をとる操作を100回繰り返す\n",
    "for i in range(100):\n",
    "    x = A @ x\n",
    "\n",
    "    # 行列の積計算で得られたベクトルを要素の二乗和が1になるよう変換\n",
    "    x = x / np.linalg.norm(x)\n",
    "\n",
    "# 100回操作後の固有ベクトル中心性の値\n",
    "x"
   ]
  },
  {
   "cell_type": "markdown",
   "id": "45907970-7d1d-43f6-b478-3306cde4ccdf",
   "metadata": {
    "editable": true,
    "slideshow": {
     "slide_type": ""
    },
    "tags": []
   },
   "source": [
    "値が`eigenvector_centrality`関数の返り値とほぼ一致することが確認できる．"
   ]
  },
  {
   "cell_type": "markdown",
   "id": "a8e06db4-3710-4af7-a240-b7beedb121c2",
   "metadata": {
    "editable": true,
    "slideshow": {
     "slide_type": ""
    },
    "tags": []
   },
   "source": [
    "良さそうに見える固有ベクトル中心性も適用できないグラフが存在する．\n",
    "それは，強連結でない有向グラフである（強連結であればOK）．\n",
    "例えば，以下のグラフ$G_{weaklyconnected}$は強連結でない．\n",
    "`eigenvector_centrality`関数を用いて，グラフ$G_{weaklyconnected}$の固有ベクトル中心性を計算してみよう．"
   ]
  },
  {
   "cell_type": "code",
   "execution_count": 70,
   "id": "10b194e3-3e2f-4d32-83fb-3a57a7b35c03",
   "metadata": {
    "editable": true,
    "slideshow": {
     "slide_type": ""
    },
    "tags": [
     "remove-input"
    ]
   },
   "outputs": [
    {
     "data": {
      "image/png": "[encoded data removed]",
      "text/plain": [
       "<Figure size 640x480 with 1 Axes>"
      ]
     },
     "metadata": {},
     "output_type": "display_data"
    }
   ],
   "source": [
    "G_weakly_connected = nx.DiGraph([\n",
    "    (1, 0), (0, 2), (2, 3), (1, 4),\n",
    "    (2, 4), (3, 5), (4, 5), (5, 2)\n",
    "])\n",
    "\n",
    "pos = nx.spring_layout(G_weakly_connected, seed=123)\n",
    "nx.draw(G_weakly_connected, pos, **DRAW_CONFIG)"
   ]
  },
  {
   "cell_type": "code",
   "execution_count": 73,
   "id": "1410c47e-0bd1-4812-8075-12d9d3f619fc",
   "metadata": {
    "editable": true,
    "slideshow": {
     "slide_type": ""
    },
    "tags": []
   },
   "outputs": [
    {
     "data": {
      "text/plain": [
       "False"
      ]
     },
     "execution_count": 73,
     "metadata": {},
     "output_type": "execute_result"
    }
   ],
   "source": [
    "# グラフの定義\n",
    "G_weakly_connected = nx.DiGraph([\n",
    "    (1, 0), (0, 2), (2, 3), (1, 4),\n",
    "    (2, 4), (3, 5), (4, 5), (5, 2)\n",
    "])\n",
    "\n",
    "# 強連結でないことを確認\n",
    "nx.is_strongly_connected(G_weakly_connected)"
   ]
  },
  {
   "cell_type": "code",
   "execution_count": 74,
   "id": "5150f329-2352-4b57-89e1-786bea4531e3",
   "metadata": {
    "editable": true,
    "slideshow": {
     "slide_type": ""
    },
    "tags": []
   },
   "outputs": [
    {
     "data": {
      "text/plain": [
       "{1: 5.751458071240267e-08,\n",
       " 0: 1.150291614248053e-06,\n",
       " 2: 0.5098250599444331,\n",
       " 3: 0.404647801108178,\n",
       " 4: 0.4046488938852115,\n",
       " 5: 0.642337791187098}"
      ]
     },
     "execution_count": 74,
     "metadata": {},
     "output_type": "execute_result"
    }
   ],
   "source": [
    "# 固有ベクトル中心性の計算\n",
    "nx.eigenvector_centrality(G_weakly_connected)"
   ]
  },
  {
   "cell_type": "markdown",
   "id": "a285b4dc-8cf5-4895-a5e9-bf8409ce0ce7",
   "metadata": {
    "editable": true,
    "slideshow": {
     "slide_type": ""
    },
    "tags": []
   },
   "source": [
    "得られた数値を見てみると，ノード0とノード1の値がほぼゼロになっている．\n",
    "ノード1はどのノードからもエッジを張られていない（入次数がゼロ）なので，固有ベクトル中心性の値がゼロになるのは納得ができる．\n",
    "一方，ノード0はノード1からエッジが張られているため，直感的にはスコアを多少持ってもよいはずで，ゼロなのは納得できない．\n",
    "\n",
    "このように，強連結でない有向グラフの場合，入次数がゼロのノードからしかエッジが張られているノードは重要度がゼロになってしまい，固有ベクトル中心性を意図通りに計算できない．\n",
    "そのため．「重要なノードからエッジを多く張られているノードは重要」というコンセプトで中心性を計算するには，別の工夫が必要となる．\n",
    "\n",
    "なお，以下のグラフ$G_{stronglyconnected}$のように，強廉潔な有向グラフは問題なく固有ベクトル中心性を計算できる．"
   ]
  },
  {
   "cell_type": "code",
   "execution_count": 72,
   "id": "4d5a0ae3-6b8a-4ab3-b531-140687df6982",
   "metadata": {
    "editable": true,
    "slideshow": {
     "slide_type": ""
    },
    "tags": [
     "remove-input"
    ]
   },
   "outputs": [
    {
     "data": {
      "image/png": "[encoded data removed]",
      "text/plain": [
       "<Figure size 640x480 with 1 Axes>"
      ]
     },
     "metadata": {},
     "output_type": "display_data"
    }
   ],
   "source": [
    "G_strongly_connected = nx.DiGraph([\n",
    "    (1, 0), (0, 2), (2, 3), (1, 4), (4, 1),\n",
    "    (2, 4), (3, 5), (4, 5), (5, 2)\n",
    "])\n",
    "\n",
    "nx.draw(G_strongly_connected, pos, **DRAW_CONFIG)"
   ]
  },
  {
   "cell_type": "code",
   "execution_count": 76,
   "id": "a87adf3b-7cff-46dd-aa30-8dbd8f6d67f7",
   "metadata": {
    "editable": true,
    "slideshow": {
     "slide_type": ""
    },
    "tags": []
   },
   "outputs": [
    {
     "data": {
      "text/plain": [
       "True"
      ]
     },
     "execution_count": 76,
     "metadata": {},
     "output_type": "execute_result"
    }
   ],
   "source": [
    "# グラフの定義\n",
    "G_strongly_connected = nx.DiGraph([\n",
    "    (1, 0), (0, 2), (2, 3), (1, 4), (4, 1),\n",
    "    (2, 4), (3, 5), (4, 5), (5, 2)\n",
    "])\n",
    "\n",
    "# 強連結であることを確認\n",
    "nx.is_strongly_connected(G_strongly_connected)"
   ]
  },
  {
   "cell_type": "code",
   "execution_count": 77,
   "id": "cd8a2ab3-25cb-4a34-8a08-d138ddbc15f8",
   "metadata": {
    "editable": true,
    "slideshow": {
     "slide_type": ""
    },
    "tags": []
   },
   "outputs": [
    {
     "data": {
      "text/plain": [
       "{1: 0.3287379381257333,\n",
       " 0: 0.2108662630530237,\n",
       " 2: 0.47023438323101086,\n",
       " 3: 0.301630380053154,\n",
       " 4: 0.512496640300148,\n",
       " 5: 0.5222190340080454}"
      ]
     },
     "execution_count": 77,
     "metadata": {},
     "output_type": "execute_result"
    }
   ],
   "source": [
    "# 固有ベクトル中心性の計算\n",
    "nx.eigenvector_centrality(G_strongly_connected)"
   ]
  },
  {
   "attachments": {},
   "cell_type": "markdown",
   "id": "4b31bfe9-e2ce-477b-99c9-21351dcca0b3",
   "metadata": {
    "editable": true,
    "slideshow": {
     "slide_type": ""
    },
    "tags": []
   },
   "source": [
    "## 媒介中心性\n",
    "\n",
    "次数中心性，固有ベクトル中心性はエッジの数に着目した中心性であったが，媒介中心性はグラフの経路に着目した指標である．\n",
    "**媒介中心性（betweenness centrality）** は，注目ノードがそれ以外のノード間の経路に含まれる割合を示す中心性指標である．\n",
    "直感的には，ノードがどの程度「経路上の要所」になっているかを測るものである．\n",
    "例えば，グラフの中でコミュニティをつなぐ橋渡し役になっているノード，交通の要所となるノードなどを求める際に有効な指標である．\n",
    "\n",
    "例えば，以下のグラフ$G_{barbell}$において，ノード3はグラフの左（ノード4, 5, 6）から右（ノード0, 1, 2）に移動するあたり，絶対に通る必要があるため「経路上の要所」としての重要度が高いと考えられる．\n",
    "一方，ノード5はそれを経由しなくても他のノードに到達することは可能であるため，「経路上の要所」という観点からは重要度が低いと考えられる．"
   ]
  },
  {
   "cell_type": "code",
   "execution_count": 78,
   "id": "304f61bf-837e-4833-8dd1-01cdfef52c3e",
   "metadata": {
    "editable": true,
    "slideshow": {
     "slide_type": ""
    },
    "tags": [
     "remove-input"
    ]
   },
   "outputs": [
    {
     "data": {
      "image/png": "[encoded data removed]",
      "text/plain": [
       "<Figure size 640x480 with 1 Axes>"
      ]
     },
     "metadata": {},
     "output_type": "display_data"
    }
   ],
   "source": [
    "G_barbell = nx.barbell_graph(3, 1)\n",
    "nx.draw(G_barbell, **DRAW_CONFIG)"
   ]
  },
  {
   "cell_type": "markdown",
   "id": "891fab8c-44fe-4c38-9082-ccd699120e47",
   "metadata": {
    "editable": true,
    "slideshow": {
     "slide_type": ""
    },
    "tags": []
   },
   "source": [
    "ノード3とノード5の媒介中心性を計算してみよう．\n",
    "まず，グラフ$G_{barbell}$にはノードが7つあるため，計算対象を除くノード間の経路の候補は${}_6 C_2=15$通りある．\n",
    "そのうちノード3を経由する経路は9，ノード5を経由する経路は0なので，\n",
    "- ノード3の媒介中心性 $=\\frac{9}{15}$\n",
    "- ノード5の媒介中心性 $=\\frac{0}{15}$\n",
    "\n",
    "となる．\n",
    "\n",
    "媒介中心性をNetworkXで求めるには`betweenness_centrality`関数を用いる．\n",
    "以下，上のグラフ$G_{barbell}$の各ノードの媒介ベクトル中心性を求めるコードである．"
   ]
  },
  {
   "cell_type": "code",
   "execution_count": 79,
   "id": "c83b393a-d3a4-450f-be95-bbb152828cfe",
   "metadata": {
    "editable": true,
    "slideshow": {
     "slide_type": ""
    },
    "tags": []
   },
   "outputs": [
    {
     "data": {
      "text/plain": [
       "{0: 0.0,\n",
       " 1: 0.0,\n",
       " 2: 0.5333333333333333,\n",
       " 4: 0.5333333333333333,\n",
       " 5: 0.0,\n",
       " 6: 0.0,\n",
       " 3: 0.6}"
      ]
     },
     "execution_count": 79,
     "metadata": {},
     "output_type": "execute_result"
    }
   ],
   "source": [
    "# 媒介中心性\n",
    "nx.betweenness_centrality(G_barbell)"
   ]
  },
  {
   "cell_type": "markdown",
   "id": "f4bc87f8-8b32-4c54-bb86-0db256f75e6b",
   "metadata": {
    "editable": true,
    "slideshow": {
     "slide_type": ""
    },
    "tags": []
   },
   "source": [
    "---\n",
    "\n",
    "## クイズ"
   ]
  },
  {
   "cell_type": "markdown",
   "id": "2f4011a6-5e4c-4e51-be58-973f42f5d8b2",
   "metadata": {
    "editable": true,
    "slideshow": {
     "slide_type": ""
    },
    "tags": []
   },
   "source": [
    "### Q: 近接中心性\n",
    "以下のグラフ$G_{bull}$に属する各ノードの近接中心性について，`closeness_centrality`関数を用いずに計算するコードを書きなさい．"
   ]
  },
  {
   "cell_type": "code",
   "execution_count": 98,
   "id": "33b78d4f-9dba-4866-8287-b0df8866e69f",
   "metadata": {
    "editable": true,
    "slideshow": {
     "slide_type": ""
    },
    "tags": [
     "remove-input"
    ]
   },
   "outputs": [
    {
     "data": {
      "image/png": "[encoded data removed]",
      "text/plain": [
       "<Figure size 640x480 with 1 Axes>"
      ]
     },
     "metadata": {},
     "output_type": "display_data"
    }
   ],
   "source": [
    "DRAW_CONFIG = {\n",
    "    'node_color': 'white',\n",
    "    'edgecolors': 'black', # line color of nodes\n",
    "    'with_labels': True,\n",
    "    'node_size': 600,\n",
    "    'font_size': 14,\n",
    "    'font_family': 'Arial',\n",
    "}\n",
    "\n",
    "G_bull = nx.Graph([(0, 1), (1, 2), (2, 0), (1, 3), (2, 4), (4, 5)])\n",
    "pos = nx.spring_layout(G_bull, seed=12345)\n",
    "nx.draw(G_bull, pos, **DRAW_CONFIG)"
   ]
  },
  {
   "cell_type": "code",
   "execution_count": 99,
   "id": "98f7b244-af13-453c-8e24-f191cfe89fd9",
   "metadata": {
    "editable": true,
    "slideshow": {
     "slide_type": ""
    },
    "tags": []
   },
   "outputs": [],
   "source": [
    "import networkx as nx\n",
    "\n",
    "# グラフの定義\n",
    "G_bull = nx.Graph([(0, 1), (1, 2), (2, 0), (1, 3), (2, 4), (4, 5)])\n",
    "\n",
    "# Write your code\n",
    "\n"
   ]
  },
  {
   "cell_type": "markdown",
   "id": "4110b990-761a-4f3d-994a-88cfe222ce9e",
   "metadata": {
    "editable": true,
    "slideshow": {
     "slide_type": ""
    },
    "tags": []
   },
   "source": [
    "### Q: 都道府県の近接中心性，次数中心性，媒介中心性"
   ]
  },
  {
   "cell_type": "code",
   "execution_count": 81,
   "id": "f182cf12-2a81-49f1-90ff-0814e1bb47b0",
   "metadata": {
    "editable": true,
    "slideshow": {
     "slide_type": ""
    },
    "tags": [
     "remove-input"
    ]
   },
   "outputs": [
    {
     "data": {
      "image/png": "[encoded data removed]",
      "text/plain": [
       "<Figure size 640x480 with 1 Axes>"
      ]
     },
     "metadata": {},
     "output_type": "display_data"
    }
   ],
   "source": [
    "import pandas as pd\n",
    "\n",
    "QUIZ_DRAW_CONFIG = {\n",
    "    'node_size': 30,\n",
    "    'with_labels': False,\n",
    "    'width': 0.6,\n",
    "    'edgecolors': 'black',\n",
    "    'node_color': 'white',\n",
    "}\n",
    "\n",
    "G_prefecture = nx.read_adjlist(\"data/prefecture/prefecture.adjlist\")\n",
    "\n",
    "url = \"https://gist.githubusercontent.com/ctsaran/42728dad3c7d8bd91f1d/raw/017718dde64f70e221f0e2bb0487a6c975d6195d/gistfile1.txt\"\n",
    "df = pd.read_table(url, sep='\\t', header=None)\n",
    "df.columns = ['pid', 'prefecture', 'lat', 'lng']\n",
    "pos = {row['prefecture']: (row['lng'], row['lat']) for _, row in df.iterrows()}\n",
    "\n",
    "nx.draw(G_prefecture, pos, **QUIZ_DRAW_CONFIG)"
   ]
  },
  {
   "cell_type": "markdown",
   "id": "8a080820-c263-40ab-abf3-916d5e8d5b1c",
   "metadata": {
    "editable": true,
    "slideshow": {
     "slide_type": ""
    },
    "tags": []
   },
   "source": [
    "上のグラフ$G_{prefecture}$は，沖縄県を除く日本の都道府県をノード，都道府県間の陸路の存在をエッジとして可視化したものである．\n",
    "グラフ$G_{prefecture}$に含まれる各ノード（都道府県）について，その近接中心性，次数中心性，媒介中心性を計算し，各指標の上位3件を求めなさい．\n",
    "\n",
    "なお，グラフ$G_{prefecture}$に関するデータは[コチラ](data/prefecture/prefecture.adjlist)からダウンロード可能である．\n",
    "また，以下のコードを書くとダウンロードしたファイルをNetworkX形式のグラフとして読み込める．"
   ]
  },
  {
   "cell_type": "code",
   "execution_count": 82,
   "id": "47c4baa1-408f-42aa-80cc-2ed50df2f3db",
   "metadata": {
    "editable": true,
    "slideshow": {
     "slide_type": ""
    },
    "tags": []
   },
   "outputs": [],
   "source": [
    "import networkx as nx\n",
    "\n",
    "# ダウンロードしたデータは`data/prefecture/prefecture.adjlist`にあると想定\n",
    "G_prefecture = nx.read_adjlist(\"data/prefecture/prefecture.adjlist\")"
   ]
  },
  {
   "cell_type": "markdown",
   "id": "25991cb7-3179-4c1d-b31a-21d77c52a715",
   "metadata": {
    "editable": true,
    "slideshow": {
     "slide_type": ""
    },
    "tags": []
   },
   "source": [
    "### Q: 空港の次数中心性，媒介中心性，固有ベクトル中心性"
   ]
  },
  {
   "cell_type": "code",
   "execution_count": 104,
   "id": "77ea5890-2bc2-4cae-98a1-1e45038d3c54",
   "metadata": {
    "editable": true,
    "slideshow": {
     "slide_type": ""
    },
    "tags": [
     "remove-input"
    ]
   },
   "outputs": [
    {
     "name": "stdout",
     "output_type": "stream",
     "text": [
      "airport.html\n"
     ]
    },
    {
     "data": {
      "text/html": [
       "\n",
       "        <iframe\n",
       "            width=\"800\"\n",
       "            height=\"600\"\n",
       "            src=\"airport.html\"\n",
       "            frameborder=\"0\"\n",
       "            allowfullscreen\n",
       "            \n",
       "        ></iframe>\n",
       "        "
      ],
      "text/plain": [
       "<IPython.lib.display.IFrame at 0x14f8f0820>"
      ]
     },
     "execution_count": 104,
     "metadata": {},
     "output_type": "execute_result"
    }
   ],
   "source": [
    "from pyvis.network import Network\n",
    "import warnings\n",
    "warnings.filterwarnings('ignore')\n",
    "\n",
    "G_ana = nx.read_adjlist(\"data/airport/ana.adjlist\")\n",
    "\n",
    "# pyvisで可視化\n",
    "g = Network(width=800, height=600, notebook=True, cdn_resources='remote')\n",
    "g.from_nx(G_ana)\n",
    "g.show('airport.html')"
   ]
  },
  {
   "cell_type": "markdown",
   "id": "52dffc7f-6f21-44b8-a7eb-dac323a9ecb7",
   "metadata": {
    "editable": true,
    "slideshow": {
     "slide_type": ""
    },
    "tags": []
   },
   "source": [
    "上のグラフ$G_{airport}$は，日本の主要な空港をノード，空港間でANA（全日空）の航路が存在することをエッジとして可視化したものである．\n",
    "グラフ$G_{airport}$に含まれる各ノード（空港）について，その次数中心性，媒介中心性，固有ベクトル中心性を計算し，各指標の上位5件を求めなさい．\n",
    "\n",
    "なお，グラフ$G_{airport}$に関するデータは[コチラ](data/airport/ana.adjlist)からダウンロード可能である．\n",
    "また，以下のコードを書くとダウンロードしたファイルをNetworkX形式のグラフとして読み込める．"
   ]
  },
  {
   "cell_type": "code",
   "execution_count": 88,
   "id": "0d838c39-8a58-45f8-b50a-4ee9c505fa60",
   "metadata": {
    "editable": true,
    "slideshow": {
     "slide_type": ""
    },
    "tags": []
   },
   "outputs": [],
   "source": [
    "import networkx as nx\n",
    "\n",
    "# ダウンロードしたデータは`data/airport/ana.adjlist`にあると想定\n",
    "G_ana = nx.read_adjlist(\"data/airport/ana.adjlist\")"
   ]
  }
 ],
 "metadata": {
  "kernelspec": {
   "display_name": "Python 3 (ipykernel)",
   "language": "python",
   "name": "python3"
  },
  "language_info": {
   "codemirror_mode": {
    "name": "ipython",
    "version": 3
   },
   "file_extension": ".py",
   "mimetype": "text/x-python",
   "name": "python",
   "nbconvert_exporter": "python",
   "pygments_lexer": "ipython3",
   "version": "3.10.13"
  }
 },
 "nbformat": 4,
 "nbformat_minor": 5
}
