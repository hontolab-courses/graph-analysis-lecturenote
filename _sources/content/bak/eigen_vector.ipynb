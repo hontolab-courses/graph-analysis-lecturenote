{
 "cells": [
  {
   "cell_type": "code",
   "execution_count": 1,
   "id": "916c84fd-bdf1-4dcb-9db6-fb781a2e86c6",
   "metadata": {},
   "outputs": [],
   "source": [
    "import numpy as np\n",
    "import matplotlib.pyplot as plt\n",
    "import matplotlib.animation as animation\n",
    "\n",
    "#%matplotlib inline"
   ]
  },
  {
   "cell_type": "code",
   "execution_count": 2,
   "id": "0c84ec28-078e-4d65-9e45-fbe4475f11f5",
   "metadata": {},
   "outputs": [],
   "source": [
    "def normalize(v):\n",
    "    l2 = np.linalg.norm(v, ord=2)\n",
    "    v = v / l2\n",
    "    return v\n"
   ]
  },
  {
   "cell_type": "code",
   "execution_count": 21,
   "id": "e881f830-6a47-4053-8263-22e3923927ac",
   "metadata": {},
   "outputs": [
    {
     "data": {
      "text/plain": [
       "array([[0.8386362 ],\n",
       "       [0.53626534],\n",
       "       [0.69337366]])"
      ]
     },
     "execution_count": 21,
     "metadata": {},
     "output_type": "execute_result"
    }
   ],
   "source": [
    "rng = np.random.default_rng()\n",
    "A = rng.random((3, 1))\n",
    "A"
   ]
  },
  {
   "cell_type": "code",
   "execution_count": 50,
   "id": "7e44fac9-aef3-48de-9fe0-6ddc2b1d8c6f",
   "metadata": {},
   "outputs": [
    {
     "data": {
      "image/png": "[encoded data removed]",
      "text/plain": [
       "<Figure size 600x600 with 1 Axes>"
      ]
     },
     "metadata": {},
     "output_type": "display_data"
    }
   ],
   "source": [
    "fig, ax = plt.subplots(figsize=(6, 6))\n",
    "max_limit = 100\n",
    "ax.set_xlim(-1*max_limit, max_limit)\n",
    "ax.set_ylim(-1*max_limit, max_limit)\n",
    "ax.set_xticks([-1*max_limit, 0, max_limit])\n",
    "ax.set_yticks([-1*max_limit, max_limit])\n",
    "\n",
    "dim = 2\n",
    "\n",
    "# 下軸と左軸をそれぞれ中央へもってくる\n",
    "ax.spines['bottom'].set_position(('data', 0))\n",
    "ax.spines['left'].set_position(('data', 0))\n",
    "\n",
    "# 上軸と右軸を表示しない\n",
    "ax.spines['right'].set_visible(False)\n",
    "ax.spines['top'].set_visible(False)\n",
    "\n",
    "\n",
    "# 非負だと収束\n",
    "# ペロン＝フロベニウスの定理\n",
    "rng = np.random.default_rng()\n",
    "A = rng.random((dim, dim))\n",
    "\n",
    "x = rng.random((dim, 1)) * 100\n",
    "#x = normalize(x) \n",
    "\n",
    "ims = []\n",
    "for i in range(3):\n",
    "    im = ax.plot([0, x[0, 0]], [0, x[1, 0]])\n",
    "    ims.append(im)\n",
    "    \n",
    "    \n",
    "    x = A @ x\n",
    "    #x = normalize(x)\n",
    "    im = ax.plot([0, x[0, 0]], [0, x[1, 0]])\n",
    "    ims.append(im)\n",
    "\n",
    "ani = animation.ArtistAnimation(fig, ims, interval=1000)\n",
    "ani.save(\"output.gif\", writer=\"pillow\")\n",
    "\n"
   ]
  },
  {
   "cell_type": "code",
   "execution_count": 40,
   "id": "a263b270-a3ea-4189-91da-513af0843010",
   "metadata": {},
   "outputs": [
    {
     "name": "stdout",
     "output_type": "stream",
     "text": [
      "0 0.050206076913417\n",
      "1 8.045047488228084e-05\n",
      "2 1.325375566325876e-07\n",
      "3 2.1835820897218135e-10\n"
     ]
    }
   ],
   "source": [
    "dim = 2\n",
    "A = rng.random((dim, dim))\n",
    "x = normalize(rng.random((dim, 1)))\n",
    "\n",
    "for i in range(100):\n",
    "    x_new = normalize(A @ x)\n",
    "    dist = np.linalg.norm(x_new - x, ord=2)\n",
    "\n",
    "    if dist <= 0.00000000001:\n",
    "        break\n",
    "        \n",
    "    print(i, dist)\n",
    "    x = x_new"
   ]
  },
  {
   "cell_type": "code",
   "execution_count": 25,
   "id": "11daf528-7f2a-4b8a-b656-952e81cd5182",
   "metadata": {},
   "outputs": [
    {
     "data": {
      "text/plain": [
       "array([[0.97574589],\n",
       "       [0.25762894]])"
      ]
     },
     "execution_count": 25,
     "metadata": {},
     "output_type": "execute_result"
    }
   ],
   "source": [
    "x\n"
   ]
  },
  {
   "cell_type": "code",
   "execution_count": 26,
   "id": "d917e830-68ac-4e23-8691-e5835f7ac131",
   "metadata": {},
   "outputs": [
    {
     "data": {
      "text/plain": [
       "array([[0.62333402],\n",
       "       [0.91788284]])"
      ]
     },
     "execution_count": 26,
     "metadata": {},
     "output_type": "execute_result"
    }
   ],
   "source": [
    "y"
   ]
  },
  {
   "cell_type": "code",
   "execution_count": 27,
   "id": "9495a323-717d-4dcf-bbda-1fe2091bd62f",
   "metadata": {},
   "outputs": [
    {
     "data": {
      "text/plain": [
       "array([[ 0.35241187],\n",
       "       [-0.66025391]])"
      ]
     },
     "execution_count": 27,
     "metadata": {},
     "output_type": "execute_result"
    }
   ],
   "source": [
    "x - y"
   ]
  },
  {
   "cell_type": "code",
   "execution_count": 28,
   "id": "7c1cea3f-0f65-4871-952d-94254d4abf1d",
   "metadata": {},
   "outputs": [
    {
     "data": {
      "text/plain": [
       "0.7484178958412291"
      ]
     },
     "execution_count": 28,
     "metadata": {},
     "output_type": "execute_result"
    }
   ],
   "source": []
  },
  {
   "cell_type": "code",
   "execution_count": null,
   "id": "ac66a8cc-1ac7-4dd5-a40d-2e6166f310f5",
   "metadata": {},
   "outputs": [],
   "source": []
  }
 ],
 "metadata": {
  "kernelspec": {
   "display_name": "Python 3 (ipykernel)",
   "language": "python",
   "name": "python3"
  },
  "language_info": {
   "codemirror_mode": {
    "name": "ipython",
    "version": 3
   },
   "file_extension": ".py",
   "mimetype": "text/x-python",
   "name": "python",
   "nbconvert_exporter": "python",
   "pygments_lexer": "ipython3",
   "version": "3.10.13"
  }
 },
 "nbformat": 4,
 "nbformat_minor": 5
}
