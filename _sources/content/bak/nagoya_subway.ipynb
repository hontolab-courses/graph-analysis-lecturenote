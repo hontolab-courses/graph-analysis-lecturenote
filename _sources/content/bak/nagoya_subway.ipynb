{
 "cells": [
  {
   "cell_type": "code",
   "execution_count": 1,
   "id": "e26024fd-2a99-4def-984e-0f5eac7dfbb8",
   "metadata": {},
   "outputs": [],
   "source": [
    "import networkx as nx"
   ]
  },
  {
   "cell_type": "code",
   "execution_count": 2,
   "id": "91105202-65e2-4898-909d-a32f0d05e09d",
   "metadata": {},
   "outputs": [],
   "source": [
    "subway_lines = ['higashiyama', 'sakura-dori', 'tsurumai', 'meijo', 'meiko', 'kamiiida']"
   ]
  },
  {
   "cell_type": "code",
   "execution_count": 5,
   "id": "3508b50d-8b63-4c03-9393-746fbf820ab5",
   "metadata": {},
   "outputs": [
    {
     "name": "stdout",
     "output_type": "stream",
     "text": [
      "高畑\n",
      "\n"
     ]
    },
    {
     "ename": "ValueError",
     "evalue": "not enough values to unpack (expected 3, got 1)",
     "output_type": "error",
     "traceback": [
      "\u001b[0;31m---------------------------------------------------------------------------\u001b[0m",
      "\u001b[0;31mValueError\u001b[0m                                Traceback (most recent call last)",
      "Cell \u001b[0;32mIn[5], line 10\u001b[0m\n\u001b[1;32m      8\u001b[0m \u001b[38;5;28;01mfor\u001b[39;00m line \u001b[38;5;129;01min\u001b[39;00m f:\n\u001b[1;32m      9\u001b[0m     \u001b[38;5;28mprint\u001b[39m(line)\n\u001b[0;32m---> 10\u001b[0m     station, lat, lng \u001b[38;5;241m=\u001b[39m line\u001b[38;5;241m.\u001b[39msplit(\u001b[38;5;124m'\u001b[39m\u001b[38;5;124m,\u001b[39m\u001b[38;5;124m'\u001b[39m)\n\u001b[1;32m     11\u001b[0m     lat \u001b[38;5;241m=\u001b[39m \u001b[38;5;28mfloat\u001b[39m(lat)\n\u001b[1;32m     12\u001b[0m     lng \u001b[38;5;241m=\u001b[39m \u001b[38;5;28mfloat\u001b[39m(lng)\n",
      "\u001b[0;31mValueError\u001b[0m: not enough values to unpack (expected 3, got 1)"
     ]
    }
   ],
   "source": [
    "G = nx.DiGraph()\n",
    "\n",
    "pos = {}\n",
    "for subway_line in subway_lines:\n",
    "    filepath = f'data/nagoya_subway/{subway_line}.txt'\n",
    "    with open(filepath) as f:\n",
    "        stations = []\n",
    "        for line in f:\n",
    "            print(line)\n",
    "            station, lat, lng = line.split(',')\n",
    "            lat = float(lat)\n",
    "            lng = float(lng)\n",
    "            stations.append(station)\n",
    "            pos[station] = (lng, lat)\n",
    "\n",
    "            if station not in G:\n",
    "                G.add_node(station)\n",
    "\n",
    "        for i in range(len(stations)-1):\n",
    "            if stations[i+1] in G:\n",
    "                G.add_edge(stations[i], stations[i+1])\n",
    "                G.add_edge(stations[i+1], stations[i])\n",
    "\n",
    "       "
   ]
  },
  {
   "cell_type": "code",
   "execution_count": 10,
   "id": "5712a45a-b1eb-4f5c-8e55-8255074ad681",
   "metadata": {},
   "outputs": [],
   "source": [
    "with open('data/nagoya_subway/location.txt', 'w+') as f:\n",
    "    for station in pos:\n",
    "        f.write(station + '\\n')   "
   ]
  },
  {
   "cell_type": "code",
   "execution_count": 4,
   "id": "25582f37-f82d-4ce7-a0ca-f6b9030e324a",
   "metadata": {},
   "outputs": [
    {
     "data": {
      "image/png": "[encoded data removed]",
      "text/plain": [
       "<Figure size 640x480 with 1 Axes>"
      ]
     },
     "metadata": {},
     "output_type": "display_data"
    }
   ],
   "source": [
    "#pos = nx.spring_layout(G, k=8.0)\n",
    "#pos = nx.spectral_layout(G)\n",
    "nx.draw(G, pos, with_labels=False, alpha=0.5, font_family='IPAPGothic') "
   ]
  },
  {
   "cell_type": "code",
   "execution_count": null,
   "id": "470875b0-f1d2-458c-a20f-45e18b47b1da",
   "metadata": {},
   "outputs": [],
   "source": []
  }
 ],
 "metadata": {
  "kernelspec": {
   "display_name": "Python 3 (ipykernel)",
   "language": "python",
   "name": "python3"
  },
  "language_info": {
   "codemirror_mode": {
    "name": "ipython",
    "version": 3
   },
   "file_extension": ".py",
   "mimetype": "text/x-python",
   "name": "python",
   "nbconvert_exporter": "python",
   "pygments_lexer": "ipython3",
   "version": "3.10.13"
  }
 },
 "nbformat": 4,
 "nbformat_minor": 5
}
