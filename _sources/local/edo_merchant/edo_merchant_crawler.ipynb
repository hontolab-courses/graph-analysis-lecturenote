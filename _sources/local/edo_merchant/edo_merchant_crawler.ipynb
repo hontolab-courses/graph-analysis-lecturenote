{
 "cells": [
  {
   "cell_type": "code",
   "execution_count": 145,
   "id": "7e201260-86a9-4b40-88a7-0630c4be7284",
   "metadata": {
    "editable": true,
    "slideshow": {
     "slide_type": ""
    },
    "tags": []
   },
   "outputs": [],
   "source": [
    "import time \n",
    "from bs4 import BeautifulSoup\n",
    "from selenium import webdriver\n",
    "from selenium.webdriver.chrome.options import Options\n",
    "from selenium.webdriver.common.by import By\n",
    "\n",
    "options = Options()\n",
    "#options.add_argument('--headless')\n",
    "driver = webdriver.Chrome(options=options)"
   ]
  },
  {
   "cell_type": "code",
   "execution_count": 146,
   "id": "e1170b78-af83-4b2c-a943-9616e13efd7c",
   "metadata": {},
   "outputs": [],
   "source": [
    "def extract_metadata_from(a_dom_element):\n",
    "    time.sleep(3)\n",
    "    a_dom_element.click()\n",
    "    \n",
    "    tag_labels = [\n",
    "        '江戸買物ID', '商人名', '居所（歴史地名大系）', '江戸マップID',\n",
    "        '居所（原本表記）', '職種（原本表記）', '仲間'\n",
    "    ]\n",
    "    \n",
    "    html = driver.page_source\n",
    "    soup = BeautifulSoup(html, 'lxml')\n",
    "\n",
    "    metadata = { tag_label: '' for tag_label in tag_labels }\n",
    "    for tag_dom in soup.select('div#detail_facet a'):\n",
    "        text = tag_dom.text.strip()\n",
    "        for tag_label in tag_labels:\n",
    "            if text.startswith(tag_label):\n",
    "                label = text.replace(tag_label + '：', '')\n",
    "                if label:\n",
    "                    metadata[tag_label] = label\n",
    "\n",
    "    button_dom = driver.find_element(By.CSS_SELECTOR, 'button#detail_close')\n",
    "    button_dom.click()\n",
    "    return metadata\n",
    "                "
   ]
  },
  {
   "cell_type": "code",
   "execution_count": 147,
   "id": "a6ff505a-b5cf-4890-8f9a-6248b644770b",
   "metadata": {},
   "outputs": [],
   "source": [
    "def go_next_list():\n",
    "    try:\n",
    "        next_dom = driver.find_element(By.CSS_SELECTOR, 'div#thumbnails_nav2 li a.next')\n",
    "        next_dom.click()\n",
    "        time.sleep(6)\n",
    "        return True\n",
    "    except:\n",
    "        return False\n",
    "                "
   ]
  },
  {
   "cell_type": "code",
   "execution_count": 148,
   "id": "ac46fab9-1af3-4fbc-818a-e781546d903d",
   "metadata": {},
   "outputs": [],
   "source": [
    "def save_metadata(metadata):\n",
    "    with open('edo.tsv', 'a+') as f:\n",
    "        row = \"\\t\".join(metadata.values()) + '\\n'          \n",
    "        f.write(row)"
   ]
  },
  {
   "cell_type": "code",
   "execution_count": null,
   "id": "aa0ac3f6-5281-49d7-b2c3-a4c6a202da84",
   "metadata": {},
   "outputs": [],
   "source": []
  },
  {
   "cell_type": "code",
   "execution_count": 149,
   "id": "22f378d7-18a9-42aa-b905-f561df52a1e3",
   "metadata": {},
   "outputs": [
    {
     "name": "stdout",
     "output_type": "stream",
     "text": [
      "1\n",
      "2\n",
      "3\n",
      "4\n",
      "5\n",
      "6\n",
      "7\n",
      "8\n",
      "9\n",
      "10\n",
      "11\n",
      "12\n",
      "13\n",
      "14\n",
      "15\n",
      "16\n",
      "17\n",
      "18\n",
      "19\n",
      "20\n",
      "21\n",
      "22\n"
     ]
    },
    {
     "ename": "KeyboardInterrupt",
     "evalue": "",
     "output_type": "error",
     "traceback": [
      "\u001b[0;31m---------------------------------------------------------------------------\u001b[0m",
      "\u001b[0;31mKeyboardInterrupt\u001b[0m                         Traceback (most recent call last)",
      "Cell \u001b[0;32mIn[149], line 12\u001b[0m\n\u001b[1;32m     10\u001b[0m \u001b[38;5;28;01mwhile\u001b[39;00m \u001b[38;5;28;01mTrue\u001b[39;00m:\n\u001b[1;32m     11\u001b[0m     \u001b[38;5;28;01mfor\u001b[39;00m a_dom \u001b[38;5;129;01min\u001b[39;00m driver\u001b[38;5;241m.\u001b[39mfind_elements(By\u001b[38;5;241m.\u001b[39mCSS_SELECTOR, \u001b[38;5;124m'\u001b[39m\u001b[38;5;124mul#thumbnails_container li a.thumbnail\u001b[39m\u001b[38;5;124m'\u001b[39m):\n\u001b[0;32m---> 12\u001b[0m         metadata \u001b[38;5;241m=\u001b[39m \u001b[43mextract_metadata_from\u001b[49m\u001b[43m(\u001b[49m\u001b[43ma_dom\u001b[49m\u001b[43m)\u001b[49m\n\u001b[1;32m     13\u001b[0m         metadata_list\u001b[38;5;241m.\u001b[39mappend(metadata)\n\u001b[1;32m     14\u001b[0m         \u001b[38;5;28mprint\u001b[39m(\u001b[38;5;28mlen\u001b[39m(metadata_list))\n",
      "Cell \u001b[0;32mIn[146], line 2\u001b[0m, in \u001b[0;36mextract_metadata_from\u001b[0;34m(a_dom_element)\u001b[0m\n\u001b[1;32m      1\u001b[0m \u001b[38;5;28;01mdef\u001b[39;00m\u001b[38;5;250m \u001b[39m\u001b[38;5;21mextract_metadata_from\u001b[39m(a_dom_element):\n\u001b[0;32m----> 2\u001b[0m     \u001b[43mtime\u001b[49m\u001b[38;5;241;43m.\u001b[39;49m\u001b[43msleep\u001b[49m\u001b[43m(\u001b[49m\u001b[38;5;241;43m3\u001b[39;49m\u001b[43m)\u001b[49m\n\u001b[1;32m      3\u001b[0m     a_dom_element\u001b[38;5;241m.\u001b[39mclick()\n\u001b[1;32m      5\u001b[0m     tag_labels \u001b[38;5;241m=\u001b[39m [\n\u001b[1;32m      6\u001b[0m         \u001b[38;5;124m'\u001b[39m\u001b[38;5;124m江戸買物ID\u001b[39m\u001b[38;5;124m'\u001b[39m, \u001b[38;5;124m'\u001b[39m\u001b[38;5;124m商人名\u001b[39m\u001b[38;5;124m'\u001b[39m, \u001b[38;5;124m'\u001b[39m\u001b[38;5;124m居所（歴史地名大系）\u001b[39m\u001b[38;5;124m'\u001b[39m, \u001b[38;5;124m'\u001b[39m\u001b[38;5;124m江戸マップID\u001b[39m\u001b[38;5;124m'\u001b[39m,\n\u001b[1;32m      7\u001b[0m         \u001b[38;5;124m'\u001b[39m\u001b[38;5;124m居所（原本表記）\u001b[39m\u001b[38;5;124m'\u001b[39m, \u001b[38;5;124m'\u001b[39m\u001b[38;5;124m職種（原本表記）\u001b[39m\u001b[38;5;124m'\u001b[39m, \u001b[38;5;124m'\u001b[39m\u001b[38;5;124m仲間\u001b[39m\u001b[38;5;124m'\u001b[39m\n\u001b[1;32m      8\u001b[0m     ]\n",
      "\u001b[0;31mKeyboardInterrupt\u001b[0m: "
     ]
    }
   ],
   "source": [
    "base_url = 'https://codh.rois.ac.jp/edo-shops/iiif-curation-finder/'\n",
    "\n",
    "path = '?select=canvas&where_metadata_label=出典&where_metadata_value=江戸買物独案内・問屋の部&lang=ja'\n",
    "\n",
    "driver.get(base_url + path)\n",
    "time.sleep(3)\n",
    "\n",
    "metadata_list = []\n",
    "   \n",
    "while True:\n",
    "    for a_dom in driver.find_elements(By.CSS_SELECTOR, 'ul#thumbnails_container li a.thumbnail'):\n",
    "        metadata = extract_metadata_from(a_dom)\n",
    "        metadata_list.append(metadata)\n",
    "        print(len(metadata_list))\n",
    "        save_metadata(metadata)\n",
    "    else:\n",
    "        is_continuable = go_next_list()\n",
    "        if not is_continuable:\n",
    "            break\n",
    "\n",
    "metadata_list"
   ]
  },
  {
   "cell_type": "code",
   "execution_count": null,
   "id": "a1dbf94f-0aa7-4eba-b9c9-c340a6af38d8",
   "metadata": {},
   "outputs": [],
   "source": []
  }
 ],
 "metadata": {
  "kernelspec": {
   "display_name": "Python 3 (ipykernel)",
   "language": "python",
   "name": "python3"
  },
  "language_info": {
   "codemirror_mode": {
    "name": "ipython",
    "version": 3
   },
   "file_extension": ".py",
   "mimetype": "text/x-python",
   "name": "python",
   "nbconvert_exporter": "python",
   "pygments_lexer": "ipython3",
   "version": "3.10.13"
  }
 },
 "nbformat": 4,
 "nbformat_minor": 5
}
