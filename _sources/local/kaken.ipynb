{
 "cells": [
  {
   "cell_type": "code",
   "execution_count": 2,
   "id": "7a6892fa-efa8-4041-b4be-e94ff172012b",
   "metadata": {
    "editable": true,
    "slideshow": {
     "slide_type": ""
    },
    "tags": []
   },
   "outputs": [
    {
     "name": "stdout",
     "output_type": "stream",
     "text": [
      "Collecting python-box\n",
      "  Downloading python_box-7.3.2-cp39-cp39-macosx_10_9_universal2.whl (1.8 MB)\n",
      "\u001b[2K     \u001b[38;2;114;156;31m━━━━━━━━━━━━━━━━━━━━━━━━━━━━━━━━━━━━━━━━\u001b[0m \u001b[32m1.8/1.8 MB\u001b[0m \u001b[31m6.5 MB/s\u001b[0m eta \u001b[36m0:00:00\u001b[0mm eta \u001b[36m0:00:01\u001b[0m\u001b[36m0:00:01\u001b[0m\n",
      "\u001b[?25hInstalling collected packages: python-box\n",
      "Successfully installed python-box-7.3.2\n",
      "\n",
      "\u001b[1m[\u001b[0m\u001b[34;49mnotice\u001b[0m\u001b[1;39;49m]\u001b[0m\u001b[39;49m A new release of pip available: \u001b[0m\u001b[31;49m22.1.2\u001b[0m\u001b[39;49m -> \u001b[0m\u001b[32;49m25.0.1\u001b[0m\n",
      "\u001b[1m[\u001b[0m\u001b[34;49mnotice\u001b[0m\u001b[1;39;49m]\u001b[0m\u001b[39;49m To update, run: \u001b[0m\u001b[32;49mpip install --upgrade pip\u001b[0m\n"
     ]
    }
   ],
   "source": [
    "!pip install python-box"
   ]
  },
  {
   "cell_type": "code",
   "execution_count": 3,
   "id": "a1331ede-aa0e-4ba1-bed7-3b6402c38f1b",
   "metadata": {},
   "outputs": [],
   "source": [
    "from kakendb import *\n",
    "import networkx as nx"
   ]
  },
  {
   "cell_type": "code",
   "execution_count": null,
   "id": "07c34089-c495-4461-a931-e220875f77e7",
   "metadata": {
    "editable": true,
    "slideshow": {
     "slide_type": ""
    },
    "tags": []
   },
   "outputs": [],
   "source": [
    "DRAW_CONFIG = {\n",
    "    'node_size': 10,\n",
    "    'font_size': 3,\n",
    "    'with_labels': False,\n",
    "    'width': 0.15,\n",
    "}\n"
   ]
  },
  {
   "cell_type": "code",
   "execution_count": null,
   "id": "2a97bb78-d236-4e1d-87f8-43178c3e9e89",
   "metadata": {
    "editable": true,
    "slideshow": {
     "slide_type": ""
    },
    "tags": []
   },
   "outputs": [],
   "source": [
    "researchers = search_for_researchers(shinsa_kubun='小区分60080:データベース関連')\n",
    "\n",
    "G_db = nx.Graph()\n",
    "\n",
    "researcher_ids = set()\n",
    "for researcher in researchers:\n",
    "    researcher_ids.add(researcher.erad_id)\n",
    "    G_db.add_node(researcher.erad_id)\n",
    "\n",
    "for researcher in researchers:\n",
    "    for collaborator_id in researcher.collaborator_ids:\n",
    "        if collaborator_id in researcher_ids:\n",
    "            G_db.add_edge(researcher.erad_id, collaborator_id)\n",
    "\n",
    "pos = nx.spring_layout(G_db, iterations=15, seed=1721)\n",
    "nx.draw(G_db, pos, **DRAW_CONFIG)"
   ]
  },
  {
   "cell_type": "code",
   "execution_count": null,
   "id": "800b4bdc-57a1-4742-8ed1-66a2fed7aa7f",
   "metadata": {},
   "outputs": [],
   "source": [
    "researchers = search_for_researchers(shinsa_kubun='小区分61020:ヒューマンインタフェースおよびインタラクション関連')\n",
    "\n",
    "G_hci = nx.Graph()\n",
    "\n",
    "researcher_ids = set()\n",
    "for researcher in researchers:\n",
    "    researcher_ids.add(researcher.erad_id)\n",
    "    G_hci.add_node(researcher.erad_id)\n",
    "\n",
    "for researcher in researchers:\n",
    "    for collaborator_id in researcher.collaborator_ids:\n",
    "        if collaborator_id in researcher_ids:\n",
    "            G_hci.add_edge(researcher.erad_id, collaborator_id)\n",
    "\n",
    "pos = nx.spring_layout(G_hci, iterations=15)\n",
    "nx.draw(G_hci, pos, **DRAW_CONFIG)"
   ]
  },
  {
   "cell_type": "code",
   "execution_count": null,
   "id": "184c15b1-10dc-451d-9fbc-d28d409e9e60",
   "metadata": {},
   "outputs": [],
   "source": [
    "researchers = search_for_researchers(shinsa_kubun='小区分21050:電気電子材料工学関連')\n",
    "\n",
    "G_eme = nx.Graph()\n",
    "\n",
    "researcher_ids = set()\n",
    "for researcher in researchers:\n",
    "    researcher_ids.add(researcher.erad_id)\n",
    "    G_eme.add_node(researcher.erad_id)\n",
    "\n",
    "for researcher in researchers:\n",
    "    for collaborator_id in researcher.collaborator_ids:\n",
    "        if collaborator_id in researcher_ids:\n",
    "            G_eme.add_edge(researcher.erad_id, collaborator_id)\n",
    "\n",
    "pos = nx.spring_layout(G_eme, iterations=15)\n",
    "nx.draw(G_eme, pos, **DRAW_CONFIG)"
   ]
  },
  {
   "cell_type": "code",
   "execution_count": null,
   "id": "40456d71-f73e-4415-ae74-350d4ddcda76",
   "metadata": {},
   "outputs": [],
   "source": [
    "researchers = search_for_researchers(shinsa_kubun='小区分17010:宇宙惑星科学関連')\n",
    "\n",
    "G_ps = nx.Graph()\n",
    "\n",
    "researcher_ids = set()\n",
    "for researcher in researchers:\n",
    "    researcher_ids.add(researcher.erad_id)\n",
    "    G_ps.add_node(researcher.erad_id)\n",
    "\n",
    "for researcher in researchers:\n",
    "    for collaborator_id in researcher.collaborator_ids:\n",
    "        if collaborator_id in researcher_ids:\n",
    "            G_ps.add_edge(researcher.erad_id, collaborator_id)\n",
    "\n",
    "pos = nx.spring_layout(G_ps, iterations=15)\n",
    "nx.draw(G_ps, pos, **DRAW_CONFIG)"
   ]
  },
  {
   "cell_type": "code",
   "execution_count": null,
   "id": "61abc517-5a72-4039-a123-98a0dd166699",
   "metadata": {},
   "outputs": [],
   "source": [
    "researchers = search_for_researchers(shinsa_kubun='小区分43010:分子生物学関連')\n",
    "\n",
    "G_mb = nx.Graph()\n",
    "\n",
    "researcher_ids = set()\n",
    "for researcher in researchers:\n",
    "    researcher_ids.add(researcher.erad_id)\n",
    "    G_mb.add_node(researcher.erad_id)\n",
    "\n",
    "for researcher in researchers:\n",
    "    for collaborator_id in researcher.collaborator_ids:\n",
    "        if collaborator_id in researcher_ids:\n",
    "            G_mb.add_edge(researcher.erad_id, collaborator_id)\n",
    "\n",
    "pos = nx.spring_layout(G_mb, iterations=15)\n",
    "nx.draw(G_mb, pos, **DRAW_CONFIG)"
   ]
  },
  {
   "cell_type": "code",
   "execution_count": null,
   "id": "dddec504-273f-46de-a5af-a004f8e4d094",
   "metadata": {},
   "outputs": [],
   "source": [
    "researchers = search_for_researchers(shinsa_kubun='小区分03020:日本史関連')\n",
    "\n",
    "G_jh = nx.Graph()\n",
    "\n",
    "researcher_ids = set()\n",
    "for researcher in researchers:\n",
    "    researcher_ids.add(researcher.erad_id)\n",
    "    G_jh.add_node(researcher.erad_id)\n",
    "\n",
    "for researcher in researchers:\n",
    "    for collaborator_id in researcher.collaborator_ids:\n",
    "        if collaborator_id in researcher_ids:\n",
    "            G_jh.add_edge(researcher.erad_id, collaborator_id)\n",
    "\n",
    "pos = nx.spring_layout(G_jh, iterations=15)\n",
    "nx.draw(G_jh, pos, **DRAW_CONFIG)"
   ]
  },
  {
   "cell_type": "code",
   "execution_count": null,
   "id": "4f3348ff-c520-4af3-9af7-7598867da18e",
   "metadata": {
    "editable": true,
    "slideshow": {
     "slide_type": ""
    },
    "tags": []
   },
   "outputs": [],
   "source": [
    "nx.write_adjlist(G_db, 'data/kakendb/collaboration_db.adjlist')\n",
    "G_db.number_of_nodes()"
   ]
  },
  {
   "cell_type": "code",
   "execution_count": null,
   "id": "f1bf4507-e7f1-4b9d-977b-bf1e76cac7c5",
   "metadata": {},
   "outputs": [],
   "source": [
    "nx.write_adjlist(G_hci, 'data/kakendb/collaboration_hci.adjlist')\n",
    "G_hci.number_of_nodes()"
   ]
  },
  {
   "cell_type": "code",
   "execution_count": null,
   "id": "2ff0b086-8cc7-4632-948f-166e73ac0f5f",
   "metadata": {},
   "outputs": [],
   "source": [
    "nx.write_adjlist(G_eme, 'data/kakendb/collaboration_eme.adjlist')\n",
    "G_eme.number_of_nodes()"
   ]
  },
  {
   "cell_type": "code",
   "execution_count": null,
   "id": "6396371b-0485-4370-b3d8-d2ad868e59b3",
   "metadata": {},
   "outputs": [],
   "source": [
    "nx.write_adjlist(G_ps, 'data/kakendb/collaboration_ps.adjlist')\n",
    "G_ps.number_of_nodes()"
   ]
  },
  {
   "cell_type": "code",
   "execution_count": null,
   "id": "02aba09e-bfd3-4bb5-bac3-8518bc99b0eb",
   "metadata": {},
   "outputs": [],
   "source": [
    "nx.write_adjlist(G_mb, 'data/kakendb/collaboration_mb.adjlist')\n",
    "G_mb.number_of_nodes()"
   ]
  },
  {
   "cell_type": "code",
   "execution_count": null,
   "id": "d2c62b37-2c9a-48df-ab48-fd84e8b0b69b",
   "metadata": {},
   "outputs": [],
   "source": [
    "nx.write_adjlist(G_jh, 'data/kakendb/collaboration_jh.adjlist')\n",
    "G_jh.number_of_nodes()"
   ]
  },
  {
   "cell_type": "code",
   "execution_count": null,
   "id": "114d91df-67a7-47ff-9798-8c8534128328",
   "metadata": {},
   "outputs": [],
   "source": [
    "G = nx.read_adjlist(\"data/kakendb/collaboration_mb.adjlist\")\n",
    "pos = nx.spring_layout(G, iterations=15, seed=1721)\n",
    "nx.draw(G, pos, **DRAW_CONFIG)"
   ]
  },
  {
   "cell_type": "code",
   "execution_count": null,
   "id": "1d04c989-e793-43d7-b2c3-c0d145a63311",
   "metadata": {},
   "outputs": [],
   "source": []
  }
 ],
 "metadata": {
  "kernelspec": {
   "display_name": "Python 3 (ipykernel)",
   "language": "python",
   "name": "python3"
  },
  "language_info": {
   "codemirror_mode": {
    "name": "ipython",
    "version": 3
   },
   "file_extension": ".py",
   "mimetype": "text/x-python",
   "name": "python",
   "nbconvert_exporter": "python",
   "pygments_lexer": "ipython3",
   "version": "3.10.13"
  }
 },
 "nbformat": 4,
 "nbformat_minor": 5
}
